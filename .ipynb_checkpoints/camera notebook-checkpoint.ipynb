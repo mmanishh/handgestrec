{
 "cells": [
  {
   "cell_type": "code",
   "execution_count": 1,
   "metadata": {},
   "outputs": [
    {
     "name": "stderr",
     "output_type": "stream",
     "text": [
      "Using TensorFlow backend.\n"
     ]
    }
   ],
   "source": [
    "import numpy as np\n",
    "import cv2 as cv2\n",
    "from keras.models import load_model\n",
    "import pyttsx3\n",
    "import matplotlib.pyplot as plt\n",
    "\n",
    "% matplotlib inline\n",
    "\n",
    "#for voice support\n",
    "engine = pyttsx3.init()\n",
    "\n"
   ]
  },
  {
   "cell_type": "code",
   "execution_count": 2,
   "metadata": {
    "collapsed": true
   },
   "outputs": [],
   "source": [
    "def say_sth(msg):\n",
    "    engine.say(msg)"
   ]
  },
  {
   "cell_type": "code",
   "execution_count": 3,
   "metadata": {
    "collapsed": true
   },
   "outputs": [],
   "source": [
    "face_cascade = cv2.CascadeClassifier('haarcascades/haarcascade_frontalface_alt.xml')\n",
    "\n",
    "eye_cascade =cv2.CascadeClassifier('haarcascades/haarcascade_eye.xml')"
   ]
  },
  {
   "cell_type": "code",
   "execution_count": 4,
   "metadata": {
    "collapsed": true
   },
   "outputs": [],
   "source": [
    "model = load_model('model.h5')\n"
   ]
  },
  {
   "cell_type": "code",
   "execution_count": 5,
   "metadata": {},
   "outputs": [
    {
     "name": "stdout",
     "output_type": "stream",
     "text": [
      "(600, 600)\n"
     ]
    }
   ],
   "source": [
    "img_read = cv2.imread('images/1.jpg')\n",
    "img_gray = cv2.cvtColor(img_read, cv2.COLOR_BGR2GRAY)\n",
    "\n",
    "print(img_gray.shape)"
   ]
  },
  {
   "cell_type": "code",
   "execution_count": 34,
   "metadata": {
    "collapsed": true
   },
   "outputs": [],
   "source": [
    "\n",
    "\n",
    "image_x, image_y = 64,64\n",
    "indices = [9,0,7,6,1,8,4,3,2,5]\n",
    "indices = [9,0,7,6,1,8,4,3,2,5]\n",
    "\n",
    "\n",
    "def keras_process_image(img):\n",
    "    img = cv2.resize(img, (image_x, image_y))\n",
    "    img = np.array(img, dtype=np.float32)\n",
    "    img = np.reshape(img, (1, image_x, image_y, 1))\n",
    "    return img\n",
    "\n",
    "def keras_predict(model, image):\n",
    "    processed = keras_process_image(image)\n",
    "    pred_probab = model.predict(processed)\n",
    "    #print(\"pred_probab:\",pred_probab,\"\\n\")\n",
    "    pred_class =indices[np.argmax(pred_probab)]\n",
    "    return np.max(pred_probab), pred_class"
   ]
  },
  {
   "cell_type": "code",
   "execution_count": 7,
   "metadata": {
    "collapsed": true
   },
   "outputs": [],
   "source": [
    "def draw_circle(img,center,radius,color):\n",
    "    cv.Circle(img, center, radius, color, thickness=1, lineType=8, shift=0) \n",
    "\n",
    "def put_splitted_text_in_blackboard(blackboard, splitted_text):\n",
    "    y = 200\n",
    "    for text in splitted_text:\n",
    "        cv2.putText(blackboard, text, (4, y), cv2.FONT_HERSHEY_TRIPLEX, 2, (255, 255, 255))\n",
    "        y += 50\n",
    "\n",
    "def show_txt():\n",
    "    blackboard = np.zeros((100, 400, 3), dtype=np.uint8)\n",
    "    splitted_text = split_sentence(\"hello world i am manish\", 1)\n",
    "    put_splitted_text_in_blackboard(blackboard, splitted_text)\n",
    "    cv2.imshow(\"Recognizing gesture\", blackboard)\n",
    "\n",
    "def split_sentence(text, num_of_words):\n",
    "    '''\n",
    "    Splits a text into group of num_of_words\n",
    "    '''\n",
    "    list_words = text.split(\" \")\n",
    "    length = len(list_words)\n",
    "    splitted_sentence = []\n",
    "    b_index = 0\n",
    "    e_index = num_of_words\n",
    "    while length > 0:\n",
    "        part = \"\"\n",
    "        for word in list_words[b_index:e_index]:\n",
    "            part = part + \" \" + word\n",
    "        splitted_sentence.append(part)\n",
    "        b_index += num_of_words\n",
    "        e_index += num_of_words\n",
    "        length -= num_of_words\n",
    "    return splitted_sentence\n",
    "\n",
    "def destroy_window():\n",
    "    # When everything done, release the capture\n",
    "    cap.release()\n",
    "    cv2.destroyAllWindows()"
   ]
  },
  {
   "cell_type": "code",
   "execution_count": 36,
   "metadata": {
    "scrolled": false
   },
   "outputs": [
    {
     "name": "stdout",
     "output_type": "stream",
     "text": [
      "i: 50\n",
      "i have predicted to be 3\n",
      "i: 100\n",
      "i have predicted to be 3\n",
      "i: 150\n",
      "i have predicted to be 3\n",
      "i: 200\n",
      "i have predicted to be 3\n",
      "i: 250\n",
      "i have predicted to be 3\n",
      "i: 300\n",
      "i have predicted to be 3\n",
      "i: 350\n",
      "i have predicted to be 3\n",
      "i: 400\n",
      "i have predicted to be 3\n",
      "i: 450\n",
      "i have predicted to be 3\n",
      "i: 500\n",
      "i have predicted to be 3\n"
     ]
    }
   ],
   "source": [
    "#defining size for rectangle\n",
    "x,y = 150,150\n",
    "w,h = 250,250\n",
    "\n",
    "\n",
    "cap = cv2.VideoCapture(0)\n",
    "i = 0\n",
    "while(True):\n",
    "    # Capture frame-by-frame\n",
    "    ret, frame = cap.read()\n",
    "    # Our operations on the frame come here\n",
    "    #gray = cv2.cvtColor(frame, cv2.COLOR_BGR2GRAY)COLOR_BGR2HSV\n",
    "    gray = cv2.cvtColor(frame, cv2.COLOR_BGR2GRAY)\n",
    "    \n",
    "    \n",
    "    i+=1\n",
    "    #show_txt()\n",
    "    #resize_save(frame)\n",
    "    # Display the resulting frame\n",
    "    cv2.rectangle(gray,(x,y),(x+w,y+h),(255,0,0),2)\n",
    "    \n",
    "    blackboard = np.zeros(gray.shape, dtype=np.uint8)\n",
    "#     splitted_text = split_sentence(\"hello world\", 2)\n",
    "#     put_splitted_text_in_blackboard(blackboard, splitted_text)\n",
    "    \n",
    "        \n",
    "    if(i%50==0):\n",
    "        prob, pred_class =keras_predict(model,gray)\n",
    "        print \"i:\",i\n",
    "        msg = \"i have predicted to be \"+str(pred_class)\n",
    "        print msg\n",
    "        put_splitted_text_in_blackboard(blackboard, split_sentence(msg,1))\n",
    "    \n",
    "    res = np.hstack((gray, blackboard))\n",
    "    cv2.imshow('frame',res)\n",
    "        \n",
    "    if cv2.waitKey(1) & 0xFF == ord('q'):\n",
    "            destroy_window()\n",
    "            break\n",
    "    "
   ]
  },
  {
   "cell_type": "code",
   "execution_count": 31,
   "metadata": {
    "collapsed": true
   },
   "outputs": [],
   "source": [
    "destroy_window()"
   ]
  },
  {
   "cell_type": "code",
   "execution_count": 30,
   "metadata": {},
   "outputs": [
    {
     "data": {
      "text/plain": [
       "10"
      ]
     },
     "execution_count": 30,
     "metadata": {},
     "output_type": "execute_result"
    }
   ],
   "source": [
    "np.max([1,2,3,10])"
   ]
  },
  {
   "cell_type": "raw",
   "metadata": {
    "collapsed": true
   },
   "source": [
    "#face detection code\n",
    "\n",
    "#  faces = face_cascade.detectMultiScale(gray, 1.3, 5)\n",
    "#     for (x,y,w,h) in faces:\n",
    "#         cv2.rectangle(gray,(x,y),(x+w,y+h),(255,0,0),2)\n",
    "#         roi_gray = gray[y:y+h, x:x+w]\n",
    "#         roi_color = gray[y:y+h, x:x+w]\n",
    "#         print(\"====face detected========\")\n",
    "#         eyes = eye_cascade.detectMultiScale(roi_gray)\n",
    "#         for (ex,ey,ew,eh) in eyes:\n",
    "#             print(\"====eye detected========\")\n",
    "#             cv2.rectangle(roi_gray,(ex,ey),(ex+ew,ey+eh),(0,255,0),2)"
   ]
  },
  {
   "cell_type": "code",
   "execution_count": null,
   "metadata": {
    "collapsed": true
   },
   "outputs": [],
   "source": [
    "# # Create a black image\n",
    "# img = np.zeros((512,512,3), np.uint8)\n",
    "\n",
    "# # Draw a diagonal blue line with thickness of 5 px\n",
    "# cv2.line(img,(0,0),(511,511),(255,0,0),5)\n",
    "\n",
    "# cv2.imshow(\"drawing shapes\",img)"
   ]
  },
  {
   "cell_type": "code",
   "execution_count": null,
   "metadata": {
    "collapsed": true
   },
   "outputs": [],
   "source": [
    "def resize_save(image):\n",
    "    resize = cv2.resize(image, (100, 100)) \n",
    "    cv2.imwrite(\"resized.jpg\", resize)\n",
    "    print(\"images saved\")"
   ]
  },
  {
   "cell_type": "code",
   "execution_count": null,
   "metadata": {
    "collapsed": true
   },
   "outputs": [],
   "source": []
  }
 ],
 "metadata": {
  "kernelspec": {
   "display_name": "Python 2",
   "language": "python",
   "name": "python2"
  },
  "language_info": {
   "codemirror_mode": {
    "name": "ipython",
    "version": 2
   },
   "file_extension": ".py",
   "mimetype": "text/x-python",
   "name": "python",
   "nbconvert_exporter": "python",
   "pygments_lexer": "ipython2",
   "version": "2.7.14"
  }
 },
 "nbformat": 4,
 "nbformat_minor": 2
}
