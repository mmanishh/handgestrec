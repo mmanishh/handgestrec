{
 "cells": [
  {
   "cell_type": "code",
   "execution_count": 6,
   "metadata": {},
   "outputs": [],
   "source": [
    "import numpy as np\n",
    "import pandas as pd\n",
    "import matplotlib.pyplot as plt\n",
    "\n",
    "import keras\n",
    "from keras.models import Sequential\n",
    "from keras.layers.core import Activation, Flatten, Dense, Dropout\n",
    "from keras.layers.convolutional import Conv2D\n",
    "from keras.layers.pooling import MaxPool2D\n",
    "#from keras.layers.convolutional import Convolution2D, MaxPooling2D\n",
    "from sklearn.model_selection import train_test_split\n",
    "\n",
    "% matplotlib inline"
   ]
  },
  {
   "cell_type": "code",
   "execution_count": 7,
   "metadata": {
    "collapsed": true
   },
   "outputs": [],
   "source": [
    "X = np.load(\"data/X.npy\")\n",
    "Y = np.load(\"data/Y.npy\")"
   ]
  },
  {
   "cell_type": "code",
   "execution_count": 8,
   "metadata": {},
   "outputs": [
    {
     "name": "stdout",
     "output_type": "stream",
     "text": [
      "('shape of X:', (2062, 64, 64))\n",
      "('shape of Y:', (2062, 10))\n"
     ]
    }
   ],
   "source": [
    "print(\"shape of X:\",X.shape)\n",
    "print(\"shape of Y:\",Y.shape)\n"
   ]
  },
  {
   "cell_type": "code",
   "execution_count": 9,
   "metadata": {},
   "outputs": [
    {
     "data": {
      "text/plain": [
       "0    0.0\n",
       "1    0.0\n",
       "2    0.0\n",
       "3    0.0\n",
       "4    1.0\n",
       "5    0.0\n",
       "6    0.0\n",
       "7    0.0\n",
       "8    0.0\n",
       "9    0.0\n",
       "Name: 1026, dtype: float64"
      ]
     },
     "execution_count": 9,
     "metadata": {},
     "output_type": "execute_result"
    }
   ],
   "source": [
    "df_Y = pd.DataFrame(Y)\n",
    "\n",
    "df_Y.iloc[1026,:]"
   ]
  },
  {
   "cell_type": "code",
   "execution_count": 10,
   "metadata": {},
   "outputs": [
    {
     "data": {
      "text/plain": [
       "<matplotlib.image.AxesImage at 0x7f8308348150>"
      ]
     },
     "execution_count": 10,
     "metadata": {},
     "output_type": "execute_result"
    },
    {
     "data": {
      "image/png": "[encoded data removed]",
      "text/plain": [
       "<matplotlib.figure.Figure at 0x7f8309493f50>"
      ]
     },
     "metadata": {},
     "output_type": "display_data"
    }
   ],
   "source": [
    "plt.imshow(X[20].reshape(64,64), cmap='gray')\n",
    "\n",
    "#0-203 : 9\n",
    "#204- 408 : 0\n",
    "#409-614 :7\n",
    "#615-821 :6\n",
    "#822 -1027 : 1\n",
    "#1028 -1235 : 8\n",
    "#1236 - 1442 : 4\n",
    "#1443 -1648 :3\n",
    "#1649 - 1854 : 2\n",
    "#1855 -2061 : 5\n",
    "# indices = [9,0,7,6,1,8,4,3,2,5]"
   ]
  },
  {
   "cell_type": "code",
   "execution_count": 14,
   "metadata": {},
   "outputs": [],
   "source": [
    "#Train_Test_Split\n",
    "x_train, x_test, y_train, y_test = train_test_split(X, Y, test_size = 0.10, random_state=1)"
   ]
  },
  {
   "cell_type": "code",
   "execution_count": 22,
   "metadata": {
    "collapsed": true,
    "scrolled": true
   },
   "outputs": [],
   "source": [
    "x_train = x_train.reshape(-1,64,64,1)\n",
    "x_test = x_test.reshape(-1,64,64,1)"
   ]
  },
  {
   "cell_type": "code",
   "execution_count": 23,
   "metadata": {},
   "outputs": [
    {
     "name": "stdout",
     "output_type": "stream",
     "text": [
      "shape of x_train: (1855, 64, 64, 1)\n",
      "shape of x_test: (207, 64, 64, 1)\n",
      "shape of y_train: (1855, 10)\n",
      "shape of y_test: (207, 10)\n"
     ]
    }
   ],
   "source": [
    "print(\"shape of x_train:\",x_train.shape)\n",
    "print(\"shape of x_test:\",x_test.shape)\n",
    "print(\"shape of y_train:\",y_train.shape)\n",
    "print(\"shape of y_test:\",y_test.shape)"
   ]
  },
  {
   "cell_type": "code",
   "execution_count": 6,
   "metadata": {
    "collapsed": true
   },
   "outputs": [],
   "source": [
    "#Our Model\n",
    "def LeNet(width, height, channels, output):\n",
    "    model = Sequential()\n",
    "    \n",
    "    #Convulation\n",
    "    model.add(Conv2D(filters=32, kernel_size=(3,3), strides=(2,2), input_shape=(width, height, channels)))\n",
    "    \n",
    "    #ReLU Activation\n",
    "    model.add(Activation('relu'))\n",
    "    \n",
    "    #Pooling\n",
    "    model.add(MaxPool2D(pool_size=(2,2)))\n",
    "    \n",
    "    #Convolution\n",
    "    model.add(Conv2D(filters=64, kernel_size=(3,3), strides=(2,2)))\n",
    "    \n",
    "    #ReLU Activation\n",
    "    model.add(Activation('relu'))\n",
    "    \n",
    "    #Pooling\n",
    "    model.add(MaxPool2D(pool_size=(2,2)))\n",
    "    \n",
    "    model.add(Flatten())\n",
    "    \n",
    "    #Hidden Layer\n",
    "    model.add(Dense(100))\n",
    "    \n",
    "    model.add(Activation('relu'))\n",
    "    \n",
    "    model.add(Dense(output))\n",
    "    \n",
    "    model.add(Activation('softmax'))\n",
    "    \n",
    "    return model\n",
    "    \n",
    "    #We can also add dropout"
   ]
  },
  {
   "cell_type": "code",
   "execution_count": 10,
   "metadata": {
    "collapsed": true
   },
   "outputs": [],
   "source": [
    "model = LeNet(x_train.shape[1],x_train.shape[2],1,y_train.shape[1])"
   ]
  },
  {
   "cell_type": "code",
   "execution_count": 11,
   "metadata": {},
   "outputs": [
    {
     "name": "stdout",
     "output_type": "stream",
     "text": [
      "_________________________________________________________________\n",
      "Layer (type)                 Output Shape              Param #   \n",
      "=================================================================\n",
      "conv2d_1 (Conv2D)            (None, 31, 31, 32)        320       \n",
      "_________________________________________________________________\n",
      "activation_1 (Activation)    (None, 31, 31, 32)        0         \n",
      "_________________________________________________________________\n",
      "max_pooling2d_1 (MaxPooling2 (None, 15, 15, 32)        0         \n",
      "_________________________________________________________________\n",
      "conv2d_2 (Conv2D)            (None, 7, 7, 64)          18496     \n",
      "_________________________________________________________________\n",
      "activation_2 (Activation)    (None, 7, 7, 64)          0         \n",
      "_________________________________________________________________\n",
      "max_pooling2d_2 (MaxPooling2 (None, 3, 3, 64)          0         \n",
      "_________________________________________________________________\n",
      "flatten_1 (Flatten)          (None, 576)               0         \n",
      "_________________________________________________________________\n",
      "dense_1 (Dense)              (None, 100)               57700     \n",
      "_________________________________________________________________\n",
      "activation_3 (Activation)    (None, 100)               0         \n",
      "_________________________________________________________________\n",
      "dense_2 (Dense)              (None, 10)                1010      \n",
      "_________________________________________________________________\n",
      "activation_4 (Activation)    (None, 10)                0         \n",
      "=================================================================\n",
      "Total params: 77,526\n",
      "Trainable params: 77,526\n",
      "Non-trainable params: 0\n",
      "_________________________________________________________________\n"
     ]
    }
   ],
   "source": [
    "model.summary()"
   ]
  },
  {
   "cell_type": "code",
   "execution_count": 12,
   "metadata": {
    "collapsed": true
   },
   "outputs": [],
   "source": [
    "model.compile(loss='categorical_crossentropy', optimizer='adadelta', metrics=['accuracy'])\n"
   ]
  },
  {
   "cell_type": "code",
   "execution_count": 13,
   "metadata": {
    "collapsed": true
   },
   "outputs": [],
   "source": [
    "EPOCHS = 100\n"
   ]
  },
  {
   "cell_type": "code",
   "execution_count": 24,
   "metadata": {
    "scrolled": true
   },
   "outputs": [
    {
     "name": "stdout",
     "output_type": "stream",
     "text": [
      "Train on 1855 samples, validate on 207 samples\n",
      "Epoch 1/100\n",
      "1855/1855 [==============================] - 2s 1ms/step - loss: 2.3048 - acc: 0.1089 - val_loss: 2.2994 - val_acc: 0.1159\n",
      "Epoch 2/100\n",
      "1855/1855 [==============================] - 1s 574us/step - loss: 2.2938 - acc: 0.1515 - val_loss: 2.2831 - val_acc: 0.1884\n",
      "Epoch 3/100\n",
      "1855/1855 [==============================] - 1s 581us/step - loss: 2.1400 - acc: 0.2658 - val_loss: 1.7615 - val_acc: 0.3382\n",
      "Epoch 4/100\n",
      "1855/1855 [==============================] - 1s 593us/step - loss: 1.4367 - acc: 0.5073 - val_loss: 1.0293 - val_acc: 0.6473\n",
      "Epoch 5/100\n",
      "1855/1855 [==============================] - 1s 620us/step - loss: 0.8496 - acc: 0.7148 - val_loss: 0.8812 - val_acc: 0.7295\n",
      "Epoch 6/100\n",
      "1855/1855 [==============================] - 1s 609us/step - loss: 0.5812 - acc: 0.8059 - val_loss: 0.6718 - val_acc: 0.8116\n",
      "Epoch 7/100\n",
      "1855/1855 [==============================] - 1s 582us/step - loss: 0.4479 - acc: 0.8534 - val_loss: 0.5065 - val_acc: 0.8647\n",
      "Epoch 8/100\n",
      "1855/1855 [==============================] - 1s 591us/step - loss: 0.3535 - acc: 0.8900 - val_loss: 0.4712 - val_acc: 0.8792\n",
      "Epoch 9/100\n",
      "1855/1855 [==============================] - 1s 628us/step - loss: 0.3070 - acc: 0.9013 - val_loss: 0.4176 - val_acc: 0.8937\n",
      "Epoch 10/100\n",
      "1855/1855 [==============================] - 1s 606us/step - loss: 0.2522 - acc: 0.9186 - val_loss: 0.3883 - val_acc: 0.8744\n",
      "Epoch 11/100\n",
      "1855/1855 [==============================] - 1s 662us/step - loss: 0.2258 - acc: 0.9294 - val_loss: 0.4027 - val_acc: 0.8841\n",
      "Epoch 12/100\n",
      "1855/1855 [==============================] - 1s 570us/step - loss: 0.1882 - acc: 0.9477 - val_loss: 0.3554 - val_acc: 0.8986\n",
      "Epoch 13/100\n",
      "1855/1855 [==============================] - 1s 567us/step - loss: 0.1632 - acc: 0.9509 - val_loss: 0.3344 - val_acc: 0.9034\n",
      "Epoch 14/100\n",
      "1855/1855 [==============================] - 1s 568us/step - loss: 0.1474 - acc: 0.9569 - val_loss: 0.3597 - val_acc: 0.9034\n",
      "Epoch 15/100\n",
      "1855/1855 [==============================] - 1s 578us/step - loss: 0.1267 - acc: 0.9617 - val_loss: 0.3266 - val_acc: 0.9179\n",
      "Epoch 16/100\n",
      "1855/1855 [==============================] - 1s 575us/step - loss: 0.1023 - acc: 0.9752 - val_loss: 0.3558 - val_acc: 0.9179\n",
      "Epoch 17/100\n",
      "1855/1855 [==============================] - 1s 570us/step - loss: 0.0885 - acc: 0.9747 - val_loss: 0.3791 - val_acc: 0.9034\n",
      "Epoch 18/100\n",
      "1855/1855 [==============================] - 1s 579us/step - loss: 0.0782 - acc: 0.9854 - val_loss: 0.3992 - val_acc: 0.8986\n",
      "Epoch 19/100\n",
      "1855/1855 [==============================] - 1s 574us/step - loss: 0.0684 - acc: 0.9838 - val_loss: 0.3322 - val_acc: 0.9130\n",
      "Epoch 20/100\n",
      "1855/1855 [==============================] - 1s 574us/step - loss: 0.0516 - acc: 0.9935 - val_loss: 0.3611 - val_acc: 0.9082\n",
      "Epoch 21/100\n",
      "1855/1855 [==============================] - 1s 568us/step - loss: 0.0526 - acc: 0.9892 - val_loss: 0.4027 - val_acc: 0.8792\n",
      "Epoch 22/100\n",
      "1855/1855 [==============================] - 1s 561us/step - loss: 0.0414 - acc: 0.9941 - val_loss: 0.3469 - val_acc: 0.9275\n",
      "Epoch 23/100\n",
      "1855/1855 [==============================] - 1s 564us/step - loss: 0.0341 - acc: 0.9941 - val_loss: 0.3670 - val_acc: 0.9082\n",
      "Epoch 24/100\n",
      "1855/1855 [==============================] - 1s 576us/step - loss: 0.0263 - acc: 0.9984 - val_loss: 0.3755 - val_acc: 0.9082\n",
      "Epoch 25/100\n",
      "1855/1855 [==============================] - 1s 589us/step - loss: 0.0229 - acc: 0.9989 - val_loss: 0.3942 - val_acc: 0.9179\n",
      "Epoch 26/100\n",
      "1855/1855 [==============================] - 1s 595us/step - loss: 0.0233 - acc: 0.9946 - val_loss: 0.3774 - val_acc: 0.9179\n",
      "Epoch 27/100\n",
      "1855/1855 [==============================] - 1s 671us/step - loss: 0.0141 - acc: 1.0000 - val_loss: 0.4096 - val_acc: 0.9082\n",
      "Epoch 28/100\n",
      "1855/1855 [==============================] - 1s 537us/step - loss: 0.0169 - acc: 0.9989 - val_loss: 0.3985 - val_acc: 0.9130\n",
      "Epoch 29/100\n",
      "1855/1855 [==============================] - 1s 530us/step - loss: 0.0111 - acc: 1.0000 - val_loss: 0.4226 - val_acc: 0.9130\n",
      "Epoch 30/100\n",
      "1855/1855 [==============================] - 1s 528us/step - loss: 0.0131 - acc: 0.9989 - val_loss: 0.4370 - val_acc: 0.9034\n",
      "Epoch 31/100\n",
      "1855/1855 [==============================] - 1s 569us/step - loss: 0.0077 - acc: 0.9995 - val_loss: 0.4401 - val_acc: 0.9179\n",
      "Epoch 32/100\n",
      "1855/1855 [==============================] - 1s 659us/step - loss: 0.0093 - acc: 1.0000 - val_loss: 0.4484 - val_acc: 0.9179\n",
      "Epoch 33/100\n",
      "1855/1855 [==============================] - 1s 530us/step - loss: 0.0047 - acc: 1.0000 - val_loss: 0.4686 - val_acc: 0.9275\n",
      "Epoch 34/100\n",
      "1855/1855 [==============================] - 1s 549us/step - loss: 0.0066 - acc: 0.9995 - val_loss: 0.4547 - val_acc: 0.9227\n",
      "Epoch 35/100\n",
      "1855/1855 [==============================] - 1s 627us/step - loss: 0.0045 - acc: 1.0000 - val_loss: 0.4462 - val_acc: 0.9179\n",
      "Epoch 36/100\n",
      "1855/1855 [==============================] - 1s 656us/step - loss: 0.0046 - acc: 1.0000 - val_loss: 0.4591 - val_acc: 0.9082\n",
      "Epoch 37/100\n",
      "1855/1855 [==============================] - 1s 598us/step - loss: 0.0023 - acc: 1.0000 - val_loss: 0.4906 - val_acc: 0.9275\n",
      "Epoch 38/100\n",
      "1855/1855 [==============================] - 1s 521us/step - loss: 0.0032 - acc: 1.0000 - val_loss: 0.4864 - val_acc: 0.9179\n",
      "Epoch 39/100\n",
      "1855/1855 [==============================] - 1s 539us/step - loss: 0.0017 - acc: 1.0000 - val_loss: 0.4930 - val_acc: 0.9275\n",
      "Epoch 40/100\n",
      "1855/1855 [==============================] - 1s 537us/step - loss: 0.0024 - acc: 1.0000 - val_loss: 0.4602 - val_acc: 0.9082\n",
      "Epoch 41/100\n",
      "1855/1855 [==============================] - 1s 537us/step - loss: 0.0018 - acc: 1.0000 - val_loss: 0.5071 - val_acc: 0.9130\n",
      "Epoch 42/100\n",
      "1855/1855 [==============================] - 1s 529us/step - loss: 0.0011 - acc: 1.0000 - val_loss: 0.5145 - val_acc: 0.9227\n",
      "Epoch 43/100\n",
      "1855/1855 [==============================] - 1s 536us/step - loss: 0.0118 - acc: 0.9978 - val_loss: 0.4936 - val_acc: 0.9130\n",
      "Epoch 44/100\n",
      "1855/1855 [==============================] - 1s 534us/step - loss: 0.0016 - acc: 1.0000 - val_loss: 0.4684 - val_acc: 0.9130\n",
      "Epoch 45/100\n",
      "1855/1855 [==============================] - 1s 539us/step - loss: 0.0010 - acc: 1.0000 - val_loss: 0.4972 - val_acc: 0.9130\n",
      "Epoch 46/100\n",
      "1855/1855 [==============================] - 1s 538us/step - loss: 8.6280e-04 - acc: 1.0000 - val_loss: 0.5208 - val_acc: 0.9179\n",
      "Epoch 47/100\n",
      "1855/1855 [==============================] - 1s 589us/step - loss: 7.2883e-04 - acc: 1.0000 - val_loss: 0.5137 - val_acc: 0.9130\n",
      "Epoch 48/100\n",
      "1855/1855 [==============================] - 1s 679us/step - loss: 6.1710e-04 - acc: 1.0000 - val_loss: 0.5390 - val_acc: 0.9227\n",
      "Epoch 49/100\n",
      "1855/1855 [==============================] - 1s 611us/step - loss: 5.5301e-04 - acc: 1.0000 - val_loss: 0.5410 - val_acc: 0.9130\n",
      "Epoch 50/100\n",
      "1855/1855 [==============================] - 1s 538us/step - loss: 4.6385e-04 - acc: 1.0000 - val_loss: 0.5466 - val_acc: 0.9082\n",
      "Epoch 51/100\n",
      "1855/1855 [==============================] - 1s 567us/step - loss: 3.9461e-04 - acc: 1.0000 - val_loss: 0.5400 - val_acc: 0.9227\n",
      "Epoch 52/100\n",
      "1855/1855 [==============================] - 1s 531us/step - loss: 3.6373e-04 - acc: 1.0000 - val_loss: 0.5526 - val_acc: 0.9227\n",
      "Epoch 53/100\n",
      "1855/1855 [==============================] - 1s 533us/step - loss: 3.0695e-04 - acc: 1.0000 - val_loss: 0.5564 - val_acc: 0.9130\n",
      "Epoch 54/100\n",
      "1855/1855 [==============================] - 1s 527us/step - loss: 2.8719e-04 - acc: 1.0000 - val_loss: 0.5637 - val_acc: 0.9179\n",
      "Epoch 55/100\n",
      "1855/1855 [==============================] - 1s 534us/step - loss: 2.6795e-04 - acc: 1.0000 - val_loss: 0.5805 - val_acc: 0.9179\n",
      "Epoch 56/100\n",
      "1855/1855 [==============================] - 1s 532us/step - loss: 2.3021e-04 - acc: 1.0000 - val_loss: 0.5622 - val_acc: 0.9179\n",
      "Epoch 57/100\n",
      "1855/1855 [==============================] - 1s 523us/step - loss: 2.2014e-04 - acc: 1.0000 - val_loss: 0.5789 - val_acc: 0.9082\n",
      "Epoch 58/100\n",
      "1855/1855 [==============================] - 1s 522us/step - loss: 1.9982e-04 - acc: 1.0000 - val_loss: 0.5930 - val_acc: 0.9179\n",
      "Epoch 59/100\n",
      "1855/1855 [==============================] - 1s 525us/step - loss: 1.8977e-04 - acc: 1.0000 - val_loss: 0.6032 - val_acc: 0.9179\n"
     ]
    },
    {
     "name": "stdout",
     "output_type": "stream",
     "text": [
      "Epoch 60/100\n",
      "1855/1855 [==============================] - 1s 530us/step - loss: 1.7049e-04 - acc: 1.0000 - val_loss: 0.5828 - val_acc: 0.9179\n",
      "Epoch 61/100\n",
      "1855/1855 [==============================] - 1s 530us/step - loss: 1.6175e-04 - acc: 1.0000 - val_loss: 0.5930 - val_acc: 0.9179\n",
      "Epoch 62/100\n",
      "1855/1855 [==============================] - 1s 526us/step - loss: 1.4980e-04 - acc: 1.0000 - val_loss: 0.6044 - val_acc: 0.9179\n",
      "Epoch 63/100\n",
      "1855/1855 [==============================] - 1s 530us/step - loss: 1.3731e-04 - acc: 1.0000 - val_loss: 0.5887 - val_acc: 0.9179\n",
      "Epoch 64/100\n",
      "1855/1855 [==============================] - 1s 525us/step - loss: 1.3256e-04 - acc: 1.0000 - val_loss: 0.5949 - val_acc: 0.9227\n",
      "Epoch 65/100\n",
      "1855/1855 [==============================] - 1s 526us/step - loss: 1.2855e-04 - acc: 1.0000 - val_loss: 0.6111 - val_acc: 0.9179\n",
      "Epoch 66/100\n",
      "1855/1855 [==============================] - 1s 539us/step - loss: 1.2377e-04 - acc: 1.0000 - val_loss: 0.6103 - val_acc: 0.9179\n",
      "Epoch 67/100\n",
      "1855/1855 [==============================] - 1s 536us/step - loss: 1.1571e-04 - acc: 1.0000 - val_loss: 0.6094 - val_acc: 0.9179\n",
      "Epoch 68/100\n",
      "1855/1855 [==============================] - 1s 530us/step - loss: 1.0963e-04 - acc: 1.0000 - val_loss: 0.6020 - val_acc: 0.9179\n",
      "Epoch 69/100\n",
      "1855/1855 [==============================] - 1s 534us/step - loss: 1.0507e-04 - acc: 1.0000 - val_loss: 0.6107 - val_acc: 0.9179\n",
      "Epoch 70/100\n",
      "1855/1855 [==============================] - 1s 531us/step - loss: 9.9313e-05 - acc: 1.0000 - val_loss: 0.6104 - val_acc: 0.9179\n",
      "Epoch 71/100\n",
      "1855/1855 [==============================] - 1s 535us/step - loss: 9.6063e-05 - acc: 1.0000 - val_loss: 0.6130 - val_acc: 0.9179\n",
      "Epoch 72/100\n",
      "1855/1855 [==============================] - 1s 534us/step - loss: 9.1052e-05 - acc: 1.0000 - val_loss: 0.6217 - val_acc: 0.9179\n",
      "Epoch 73/100\n",
      "1855/1855 [==============================] - 1s 541us/step - loss: 8.9796e-05 - acc: 1.0000 - val_loss: 0.6194 - val_acc: 0.9179\n",
      "Epoch 74/100\n",
      "1855/1855 [==============================] - 1s 534us/step - loss: 8.5435e-05 - acc: 1.0000 - val_loss: 0.6172 - val_acc: 0.9179\n",
      "Epoch 75/100\n",
      "1855/1855 [==============================] - 1s 532us/step - loss: 8.3195e-05 - acc: 1.0000 - val_loss: 0.6211 - val_acc: 0.9179\n",
      "Epoch 76/100\n",
      "1855/1855 [==============================] - 1s 534us/step - loss: 7.9248e-05 - acc: 1.0000 - val_loss: 0.6194 - val_acc: 0.9227\n",
      "Epoch 77/100\n",
      "1855/1855 [==============================] - 1s 537us/step - loss: 7.7168e-05 - acc: 1.0000 - val_loss: 0.6305 - val_acc: 0.9179\n",
      "Epoch 78/100\n",
      "1855/1855 [==============================] - 1s 531us/step - loss: 7.4664e-05 - acc: 1.0000 - val_loss: 0.6246 - val_acc: 0.9179\n",
      "Epoch 79/100\n",
      "1855/1855 [==============================] - 1s 534us/step - loss: 7.2331e-05 - acc: 1.0000 - val_loss: 0.6267 - val_acc: 0.9179\n",
      "Epoch 80/100\n",
      "1855/1855 [==============================] - 1s 532us/step - loss: 7.0471e-05 - acc: 1.0000 - val_loss: 0.6301 - val_acc: 0.9179\n",
      "Epoch 81/100\n",
      "1855/1855 [==============================] - 1s 539us/step - loss: 6.8344e-05 - acc: 1.0000 - val_loss: 0.6213 - val_acc: 0.9179\n",
      "Epoch 82/100\n",
      "1855/1855 [==============================] - 1s 542us/step - loss: 6.5816e-05 - acc: 1.0000 - val_loss: 0.6275 - val_acc: 0.9179\n",
      "Epoch 83/100\n",
      "1855/1855 [==============================] - 1s 541us/step - loss: 6.3541e-05 - acc: 1.0000 - val_loss: 0.6286 - val_acc: 0.9130\n",
      "Epoch 84/100\n",
      "1855/1855 [==============================] - 1s 619us/step - loss: 6.1997e-05 - acc: 1.0000 - val_loss: 0.6323 - val_acc: 0.9179\n",
      "Epoch 85/100\n",
      "1855/1855 [==============================] - 1s 598us/step - loss: 6.0834e-05 - acc: 1.0000 - val_loss: 0.6405 - val_acc: 0.9179\n",
      "Epoch 86/100\n",
      "1855/1855 [==============================] - 1s 537us/step - loss: 5.9226e-05 - acc: 1.0000 - val_loss: 0.6330 - val_acc: 0.9179\n",
      "Epoch 87/100\n",
      "1855/1855 [==============================] - 1s 534us/step - loss: 5.8276e-05 - acc: 1.0000 - val_loss: 0.6337 - val_acc: 0.9130\n",
      "Epoch 88/100\n",
      "1855/1855 [==============================] - 1s 527us/step - loss: 5.6010e-05 - acc: 1.0000 - val_loss: 0.6414 - val_acc: 0.9179\n",
      "Epoch 89/100\n",
      "1855/1855 [==============================] - 1s 535us/step - loss: 5.4280e-05 - acc: 1.0000 - val_loss: 0.6394 - val_acc: 0.9179\n",
      "Epoch 90/100\n",
      "1855/1855 [==============================] - 1s 532us/step - loss: 5.3420e-05 - acc: 1.0000 - val_loss: 0.6316 - val_acc: 0.9130\n",
      "Epoch 91/100\n",
      "1855/1855 [==============================] - 1s 538us/step - loss: 5.2124e-05 - acc: 1.0000 - val_loss: 0.6353 - val_acc: 0.9130\n",
      "Epoch 92/100\n",
      "1855/1855 [==============================] - 1s 531us/step - loss: 5.1045e-05 - acc: 1.0000 - val_loss: 0.6423 - val_acc: 0.9179\n",
      "Epoch 93/100\n",
      "1855/1855 [==============================] - 1s 533us/step - loss: 4.9516e-05 - acc: 1.0000 - val_loss: 0.6401 - val_acc: 0.9179\n",
      "Epoch 94/100\n",
      "1855/1855 [==============================] - 1s 539us/step - loss: 4.8471e-05 - acc: 1.0000 - val_loss: 0.6367 - val_acc: 0.9179\n",
      "Epoch 95/100\n",
      "1855/1855 [==============================] - 1s 547us/step - loss: 4.7791e-05 - acc: 1.0000 - val_loss: 0.6391 - val_acc: 0.9130\n",
      "Epoch 96/100\n",
      "1855/1855 [==============================] - 1s 597us/step - loss: 4.6435e-05 - acc: 1.0000 - val_loss: 0.6431 - val_acc: 0.9130\n",
      "Epoch 97/100\n",
      "1855/1855 [==============================] - 1s 574us/step - loss: 4.5581e-05 - acc: 1.0000 - val_loss: 0.6476 - val_acc: 0.9179\n",
      "Epoch 98/100\n",
      "1855/1855 [==============================] - 1s 560us/step - loss: 4.4471e-05 - acc: 1.0000 - val_loss: 0.6420 - val_acc: 0.9130\n",
      "Epoch 99/100\n",
      "1855/1855 [==============================] - 1s 560us/step - loss: 4.3560e-05 - acc: 1.0000 - val_loss: 0.6484 - val_acc: 0.9179\n",
      "Epoch 100/100\n",
      "1855/1855 [==============================] - 1s 559us/step - loss: 4.2776e-05 - acc: 1.0000 - val_loss: 0.6422 - val_acc: 0.9130\n"
     ]
    },
    {
     "data": {
      "text/plain": [
       "<keras.callbacks.History at 0x7f5fd46f2be0>"
      ]
     },
     "execution_count": 24,
     "metadata": {},
     "output_type": "execute_result"
    }
   ],
   "source": [
    "model.fit(x_train, y_train, validation_data=(x_test, y_test), epochs=EPOCHS)"
   ]
  },
  {
   "cell_type": "code",
   "execution_count": 31,
   "metadata": {},
   "outputs": [
    {
     "data": {
      "text/plain": [
       "202"
      ]
     },
     "execution_count": 31,
     "metadata": {},
     "output_type": "execute_result"
    }
   ],
   "source": [
    "index = np.random.randint(0,206)\n",
    "\n",
    "index"
   ]
  },
  {
   "cell_type": "code",
   "execution_count": 36,
   "metadata": {
    "collapsed": true
   },
   "outputs": [],
   "source": [
    "pred = model.predict(x_test[index].reshape(1,64,64,1))"
   ]
  },
  {
   "cell_type": "code",
   "execution_count": 37,
   "metadata": {},
   "outputs": [
    {
     "data": {
      "text/plain": [
       "4"
      ]
     },
     "execution_count": 37,
     "metadata": {},
     "output_type": "execute_result"
    }
   ],
   "source": [
    "pred_index = np.argmax(pred)\n",
    "\n",
    "pred_index"
   ]
  },
  {
   "cell_type": "code",
   "execution_count": 38,
   "metadata": {},
   "outputs": [
    {
     "data": {
      "text/plain": [
       "<matplotlib.image.AxesImage at 0x7f5fa7a90b38>"
      ]
     },
     "execution_count": 38,
     "metadata": {},
     "output_type": "execute_result"
    },
    {
     "data": {
      "image/png": "[encoded data removed]",
      "text/plain": [
       "<matplotlib.figure.Figure at 0x7f5fa7bbcf60>"
      ]
     },
     "metadata": {},
     "output_type": "display_data"
    }
   ],
   "source": [
    "plt.imshow(x_test[index].reshape(64,64))"
   ]
  },
  {
   "cell_type": "code",
   "execution_count": 18,
   "metadata": {},
   "outputs": [],
   "source": [
    "indices = [9,0,7,6,1,8,4,3,2,5]\n",
    "def predict_img():\n",
    "    index = np.random.randint(0,206)\n",
    "    #print(\"index:\",index)\n",
    "    pred = model.predict(x_test[index].reshape(1,64,64,1))\n",
    "    print(\"predicted image is:\",indices[np.argmax(pred)])\n",
    "    print(\"====showing the image======\")\n",
    "    plt.imshow(x_test[index].reshape(64,64),cmap='gray')\n",
    "    "
   ]
  },
  {
   "cell_type": "code",
   "execution_count": 20,
   "metadata": {},
   "outputs": [
    {
     "name": "stdout",
     "output_type": "stream",
     "text": [
      "('predicted image is:', 7)\n",
      "====showing the image======\n"
     ]
    },
    {
     "data": {
      "image/png": "[encoded data removed]",
      "text/plain": [
       "<matplotlib.figure.Figure at 0x7f83083236d0>"
      ]
     },
     "metadata": {},
     "output_type": "display_data"
    }
   ],
   "source": [
    "predict_img()"
   ]
  },
  {
   "cell_type": "code",
   "execution_count": 76,
   "metadata": {
    "collapsed": true
   },
   "outputs": [],
   "source": [
    "model.save(\"model.h5\")"
   ]
  },
  {
   "cell_type": "code",
   "execution_count": null,
   "metadata": {
    "collapsed": true
   },
   "outputs": [],
   "source": [
    "model"
   ]
  }
 ],
 "metadata": {
  "kernelspec": {
   "display_name": "Python 2",
   "language": "python",
   "name": "python2"
  },
  "language_info": {
   "codemirror_mode": {
    "name": "ipython",
    "version": 2
   },
   "file_extension": ".py",
   "mimetype": "text/x-python",
   "name": "python",
   "nbconvert_exporter": "python",
   "pygments_lexer": "ipython2",
   "version": "2.7.14"
  }
 },
 "nbformat": 4,
 "nbformat_minor": 2
}
