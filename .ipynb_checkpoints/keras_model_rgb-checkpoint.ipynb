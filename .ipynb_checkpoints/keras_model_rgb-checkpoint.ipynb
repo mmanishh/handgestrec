{
 "cells": [
  {
   "cell_type": "code",
   "execution_count": 1,
   "metadata": {},
   "outputs": [
    {
     "name": "stderr",
     "output_type": "stream",
     "text": [
      "Using TensorFlow backend.\n"
     ]
    }
   ],
   "source": [
    "import numpy as np\n",
    "import pandas as pd\n",
    "import matplotlib.pyplot as plt\n",
    "\n",
    "import keras\n",
    "from keras.models import Sequential\n",
    "from keras.layers.core import Activation, Flatten, Dense, Dropout\n",
    "from keras.layers.convolutional import Conv2D\n",
    "from keras.layers.pooling import MaxPool2D\n",
    "from keras import regularizers\n",
    "#from keras.layers.convolutional import Convolution2D, MaxPooling2D\n",
    "from sklearn.model_selection import train_test_split\n",
    "\n",
    "% matplotlib inline"
   ]
  },
  {
   "cell_type": "code",
   "execution_count": 2,
   "metadata": {
    "collapsed": true
   },
   "outputs": [],
   "source": [
    "X = np.load(\"npy_data_rgb/X.npy\")\n",
    "Y = np.load(\"npy_data_rgb/Y.npy\")"
   ]
  },
  {
   "cell_type": "code",
   "execution_count": 3,
   "metadata": {},
   "outputs": [
    {
     "name": "stdout",
     "output_type": "stream",
     "text": [
      "('shape of X:', (2415, 100, 100, 3))\n",
      "('shape of Y:', (2415, 11))\n"
     ]
    }
   ],
   "source": [
    "print(\"shape of X:\",X.shape)\n",
    "print(\"shape of Y:\",Y.shape)\n"
   ]
  },
  {
   "cell_type": "code",
   "execution_count": 6,
   "metadata": {
    "collapsed": true
   },
   "outputs": [],
   "source": [
    "#Train_Test_Split\n",
    "x_train, x_test, y_train, y_test = train_test_split(X, Y, test_size = 0.10, random_state=1)"
   ]
  },
  {
   "cell_type": "code",
   "execution_count": 7,
   "metadata": {
    "collapsed": true,
    "scrolled": true
   },
   "outputs": [],
   "source": [
    "x_train = x_train.reshape(-1,100,100,3)\n",
    "x_test = x_test.reshape(-1,100,100,3)"
   ]
  },
  {
   "cell_type": "code",
   "execution_count": 8,
   "metadata": {},
   "outputs": [
    {
     "name": "stdout",
     "output_type": "stream",
     "text": [
      "('shape of x_train:', (2173, 100, 100, 3))\n",
      "('shape of x_test:', (242, 100, 100, 3))\n",
      "('shape of y_train:', (2173, 11))\n",
      "('shape of y_test:', (242, 11))\n"
     ]
    }
   ],
   "source": [
    "print(\"shape of x_train:\",x_train.shape)\n",
    "print(\"shape of x_test:\",x_test.shape)\n",
    "print(\"shape of y_train:\",y_train.shape)\n",
    "print(\"shape of y_test:\",y_test.shape)"
   ]
  },
  {
   "cell_type": "code",
   "execution_count": null,
   "metadata": {
    "collapsed": true
   },
   "outputs": [],
   "source": [
    "#Our Model\n",
    "def LeNet(width, height, channels, output):\n",
    "    model = Sequential()\n",
    "    \n",
    "    #Convulation\n",
    "    model.add(Conv2D(filters=32, kernel_size=(3,3)\n",
    "                ,strides=(2,2)\n",
    "                ,kernel_regularizer=regularizers.l2(0.01)\n",
    "                ,input_shape=(width, height, channels)))\n",
    "    \n",
    "    #ReLU Activation\n",
    "    model.add(Activation('relu'))\n",
    "    \n",
    "    #Pooling\n",
    "    model.add(MaxPool2D(pool_size=(2,2)))\n",
    "    \n",
    "    #Convolution\n",
    "    model.add(Conv2D(filters=64, kernel_size=(3,3), strides=(2,2)))\n",
    "    \n",
    "    #ReLU Activation\n",
    "    model.add(Activation('relu'))\n",
    "    \n",
    "    #Pooling\n",
    "    model.add(MaxPool2D(pool_size=(2,2)))\n",
    "    \n",
    "    model.add(Flatten())\n",
    "    \n",
    "    #Hidden Layer\n",
    "    model.add(Dense(100))\n",
    "    \n",
    "    model.add(Dropout(0.2))\n",
    "    \n",
    "    model.add(Activation('relu'))\n",
    "    \n",
    "    model.add(Dense(output))\n",
    "    \n",
    "    model.add(Activation('softmax'))\n",
    "    \n",
    "    return model\n",
    "    \n",
    "    #We can also add dropout"
   ]
  },
  {
   "cell_type": "code",
   "execution_count": null,
   "metadata": {
    "collapsed": true
   },
   "outputs": [],
   "source": [
    "model = LeNet(x_train.shape[1],x_train.shape[2],1,y_train.shape[1])"
   ]
  },
  {
   "cell_type": "code",
   "execution_count": null,
   "metadata": {
    "collapsed": true
   },
   "outputs": [],
   "source": [
    "model.summary()"
   ]
  },
  {
   "cell_type": "code",
   "execution_count": null,
   "metadata": {
    "collapsed": true
   },
   "outputs": [],
   "source": [
    "model.compile(loss='categorical_crossentropy', optimizer='adam', metrics=['accuracy'])\n"
   ]
  },
  {
   "cell_type": "code",
   "execution_count": null,
   "metadata": {
    "collapsed": true
   },
   "outputs": [],
   "source": [
    "EPOCHS = 100\n"
   ]
  },
  {
   "cell_type": "code",
   "execution_count": null,
   "metadata": {
    "collapsed": true,
    "scrolled": true
   },
   "outputs": [],
   "source": [
    "hist_model =model.fit(x_train, y_train, validation_data=(x_test, y_test), epochs=EPOCHS)"
   ]
  },
  {
   "cell_type": "code",
   "execution_count": null,
   "metadata": {
    "collapsed": true
   },
   "outputs": [],
   "source": [
    "loss = hist_model.history['loss']\n",
    "\n",
    "plt.plot(loss)"
   ]
  },
  {
   "cell_type": "code",
   "execution_count": null,
   "metadata": {
    "collapsed": true
   },
   "outputs": [],
   "source": [
    "index = np.random.randint(0,206)\n",
    "\n",
    "index"
   ]
  },
  {
   "cell_type": "code",
   "execution_count": null,
   "metadata": {
    "collapsed": true
   },
   "outputs": [],
   "source": [
    "pred = model.predict(x_test[index].reshape(1,64,64,1))"
   ]
  },
  {
   "cell_type": "code",
   "execution_count": null,
   "metadata": {
    "collapsed": true
   },
   "outputs": [],
   "source": [
    "pred_index = np.argmax(pred)\n",
    "\n",
    "pred_index"
   ]
  },
  {
   "cell_type": "code",
   "execution_count": null,
   "metadata": {
    "collapsed": true
   },
   "outputs": [],
   "source": [
    "plt.imshow(x_test[index].reshape(64,64))"
   ]
  },
  {
   "cell_type": "code",
   "execution_count": null,
   "metadata": {
    "collapsed": true
   },
   "outputs": [],
   "source": [
    "indices = [9,0,7,6,1,8,4,3,2,5]\n",
    "def predict_img():\n",
    "    index = np.random.randint(0,206)\n",
    "    #print(\"index:\",index)\n",
    "    pred = model.predict(x_test[index].reshape(1,64,64,1))\n",
    "    print(\"predicted image is:\",indices[np.argmax(pred)])\n",
    "    print(\"====showing the image======\")\n",
    "    plt.imshow(x_test[index].reshape(64,64),cmap='gray')\n",
    "    "
   ]
  },
  {
   "cell_type": "code",
   "execution_count": null,
   "metadata": {
    "collapsed": true
   },
   "outputs": [],
   "source": [
    "predict_img()"
   ]
  },
  {
   "cell_type": "code",
   "execution_count": null,
   "metadata": {
    "collapsed": true
   },
   "outputs": [],
   "source": [
    "model.save(\"model.h5\")"
   ]
  },
  {
   "cell_type": "code",
   "execution_count": null,
   "metadata": {
    "collapsed": true
   },
   "outputs": [],
   "source": [
    "model"
   ]
  }
 ],
 "metadata": {
  "kernelspec": {
   "display_name": "Python 2",
   "language": "python",
   "name": "python2"
  },
  "language_info": {
   "codemirror_mode": {
    "name": "ipython",
    "version": 2
   },
   "file_extension": ".py",
   "mimetype": "text/x-python",
   "name": "python",
   "nbconvert_exporter": "python",
   "pygments_lexer": "ipython2",
   "version": "2.7.14"
  }
 },
 "nbformat": 4,
 "nbformat_minor": 2
}
