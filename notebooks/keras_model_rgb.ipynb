{
 "cells": [
  {
   "cell_type": "code",
   "execution_count": 17,
   "metadata": {
    "collapsed": true
   },
   "outputs": [],
   "source": [
    "import numpy as np\n",
    "import pandas as pd\n",
    "import matplotlib.pyplot as plt\n",
    "import time\n",
    "\n",
    "import keras\n",
    "from keras.models import Sequential\n",
    "from keras.layers.core import Activation, Flatten, Dense, Dropout\n",
    "from keras.layers.convolutional import Conv2D\n",
    "from keras.layers.pooling import MaxPool2D\n",
    "from keras import regularizers\n",
    "#from keras.layers.convolutional import Convolution2D, MaxPooling2D\n",
    "from sklearn.model_selection import train_test_split\n",
    "\n",
    "% matplotlib inline"
   ]
  },
  {
   "cell_type": "code",
   "execution_count": 9,
   "metadata": {
    "collapsed": true
   },
   "outputs": [],
   "source": [
    "X = np.load(\"npy_dataset/X.npy\")\n",
    "Y = np.load(\"npy_dataset/Y.npy\")"
   ]
  },
  {
   "cell_type": "code",
   "execution_count": 10,
   "metadata": {},
   "outputs": [
    {
     "name": "stdout",
     "output_type": "stream",
     "text": [
      "('shape of X:', (5373, 100, 100, 3))\n",
      "('shape of Y:', (5373, 11))\n"
     ]
    }
   ],
   "source": [
    "print(\"shape of X:\",X.shape)\n",
    "print(\"shape of Y:\",Y.shape)\n"
   ]
  },
  {
   "cell_type": "code",
   "execution_count": 11,
   "metadata": {
    "collapsed": true
   },
   "outputs": [],
   "source": [
    "#Train_Test_Split\n",
    "x_train, x_test, y_train, y_test = train_test_split(X, Y, test_size = 0.10, random_state=1)"
   ]
  },
  {
   "cell_type": "code",
   "execution_count": 12,
   "metadata": {
    "collapsed": true,
    "scrolled": true
   },
   "outputs": [],
   "source": [
    "x_train = x_train.reshape(-1,100,100,3)\n",
    "x_test = x_test.reshape(-1,100,100,3)"
   ]
  },
  {
   "cell_type": "code",
   "execution_count": 6,
   "metadata": {},
   "outputs": [
    {
     "name": "stdout",
     "output_type": "stream",
     "text": [
      "('shape of x_train:', (4599, 100, 100, 3))\n",
      "('shape of x_test:', (512, 100, 100, 3))\n",
      "('shape of y_train:', (4599, 11))\n",
      "('shape of y_test:', (512, 11))\n"
     ]
    }
   ],
   "source": [
    "print(\"shape of x_train:\",x_train.shape)\n",
    "print(\"shape of x_test:\",x_test.shape)\n",
    "print(\"shape of y_train:\",y_train.shape)\n",
    "print(\"shape of y_test:\",y_test.shape)"
   ]
  },
  {
   "cell_type": "code",
   "execution_count": 13,
   "metadata": {
    "collapsed": true
   },
   "outputs": [],
   "source": [
    "#Our Model\n",
    "def LeNet(width, height, channels, output):\n",
    "    model = Sequential()\n",
    "    \n",
    "    #Convulation 1\n",
    "    model.add(Conv2D(filters=32, kernel_size=(3,3)\n",
    "                ,strides=(2,2)\n",
    "                ,input_shape=(width, height, channels)))\n",
    "    \n",
    "    #ReLU Activation\n",
    "    model.add(Activation('relu'))\n",
    "    \n",
    "    #Pooling\n",
    "    model.add(MaxPool2D(pool_size=(2,2)))\n",
    "    \n",
    "    #Convolution 2\n",
    "    model.add(Conv2D(filters=64, kernel_size=(3,3)\n",
    "                    ,strides=(1,1)\n",
    "                    ,kernel_regularizer=regularizers.l2(0.01)))\n",
    "    \n",
    "    #ReLU Activation\n",
    "    model.add(Activation('relu'))\n",
    "    \n",
    "    \n",
    "    #Pooling\n",
    "    model.add(MaxPool2D(pool_size=(2,2)))\n",
    "    \n",
    "    #Convulation 3\n",
    "    model.add(Conv2D(filters=100, kernel_size=(2,2)\n",
    "                ,strides=(1,1)))\n",
    "    \n",
    "    #ReLU Activation\n",
    "    model.add(Activation('relu'))\n",
    "    \n",
    "    #Pooling\n",
    "    model.add(MaxPool2D(pool_size=(2,2)))\n",
    "    \n",
    "    model.add(Flatten())\n",
    "    \n",
    "    #Hidden Layer\n",
    "    model.add(Dense(100))\n",
    "    \n",
    "    model.add(Dropout(0.2))\n",
    "    \n",
    "    model.add(Activation('relu'))\n",
    "    \n",
    "    #Hidden Layer\n",
    "    model.add(Dense(50))\n",
    "    \n",
    "    model.add(Dropout(0.2))\n",
    "    \n",
    "    model.add(Activation('relu'))\n",
    "    \n",
    "    model.add(Dense(output))\n",
    "    \n",
    "    model.add(Activation('softmax'))\n",
    "    \n",
    "    return model\n",
    "    \n",
    "#     We can also add dropout\n",
    "# Total params: 300,803\n",
    "# Trainable params: 300,803\n",
    "# Non-trainable params: 0\n",
    "\n",
    "#loss: 0.0366 - acc: 0.9940 - val_loss: 0.2803 - val_acc: 0.9545"
   ]
  },
  {
   "cell_type": "code",
   "execution_count": 8,
   "metadata": {
    "collapsed": true
   },
   "outputs": [],
   "source": [
    "# model2 = LeNet2(x_train.shape[1],x_train.shape[2],3,y_train.shape[1])\n",
    "\n",
    "# model2.summary()"
   ]
  },
  {
   "cell_type": "code",
   "execution_count": 9,
   "metadata": {
    "collapsed": true
   },
   "outputs": [],
   "source": [
    "#Our Model\n",
    "# def LeNet(width, height, channels, output):\n",
    "#     model = Sequential()\n",
    "    \n",
    "#     #Convulation\n",
    "#     model.add(Conv2D(filters=32, kernel_size=(3,3)\n",
    "#                 ,strides=(2,2)\n",
    "#                 ,input_shape=(width, height, channels)))\n",
    "    \n",
    "#     #ReLU Activation\n",
    "#     model.add(Activation('relu'))\n",
    "    \n",
    "#     #Pooling\n",
    "#     model.add(MaxPool2D(pool_size=(2,2)))\n",
    "    \n",
    "#     #Convolution\n",
    "#     model.add(Conv2D(filters=64, kernel_size=(3,3)\n",
    "#                     ,strides=(2,2)\n",
    "#                     ,kernel_regularizer=regularizers.l2(0.01)))\n",
    "    \n",
    "#     #ReLU Activation\n",
    "#     model.add(Activation('relu'))\n",
    "    \n",
    "    \n",
    "#     #Pooling\n",
    "#     model.add(MaxPool2D(pool_size=(2,2)))\n",
    "    \n",
    "#     model.add(Flatten())\n",
    "    \n",
    "#     #Hidden Layer\n",
    "#     model.add(Dense(100))\n",
    "    \n",
    "#     model.add(Dropout(0.2))\n",
    "    \n",
    "#     model.add(Activation('relu'))\n",
    "    \n",
    "#     model.add(Dense(output))\n",
    "    \n",
    "#     model.add(Activation('softmax'))\n",
    "    \n",
    "#     return model\n",
    "    \n",
    "    #We can also add dropout\n",
    "    \n",
    "# Total params: 180,603\n",
    "# Trainable params: 180,603\n",
    "# Non-trainable params: 0"
   ]
  },
  {
   "cell_type": "code",
   "execution_count": 14,
   "metadata": {
    "collapsed": true
   },
   "outputs": [],
   "source": [
    "model = LeNet(x_train.shape[1],x_train.shape[2],3,y_train.shape[1])"
   ]
  },
  {
   "cell_type": "code",
   "execution_count": 15,
   "metadata": {},
   "outputs": [
    {
     "name": "stdout",
     "output_type": "stream",
     "text": [
      "_________________________________________________________________\n",
      "Layer (type)                 Output Shape              Param #   \n",
      "=================================================================\n",
      "conv2d_1 (Conv2D)            (None, 49, 49, 32)        896       \n",
      "_________________________________________________________________\n",
      "activation_1 (Activation)    (None, 49, 49, 32)        0         \n",
      "_________________________________________________________________\n",
      "max_pooling2d_1 (MaxPooling2 (None, 24, 24, 32)        0         \n",
      "_________________________________________________________________\n",
      "conv2d_2 (Conv2D)            (None, 22, 22, 64)        18496     \n",
      "_________________________________________________________________\n",
      "activation_2 (Activation)    (None, 22, 22, 64)        0         \n",
      "_________________________________________________________________\n",
      "max_pooling2d_2 (MaxPooling2 (None, 11, 11, 64)        0         \n",
      "_________________________________________________________________\n",
      "conv2d_3 (Conv2D)            (None, 10, 10, 100)       25700     \n",
      "_________________________________________________________________\n",
      "activation_3 (Activation)    (None, 10, 10, 100)       0         \n",
      "_________________________________________________________________\n",
      "max_pooling2d_3 (MaxPooling2 (None, 5, 5, 100)         0         \n",
      "_________________________________________________________________\n",
      "flatten_1 (Flatten)          (None, 2500)              0         \n",
      "_________________________________________________________________\n",
      "dense_1 (Dense)              (None, 100)               250100    \n",
      "_________________________________________________________________\n",
      "dropout_1 (Dropout)          (None, 100)               0         \n",
      "_________________________________________________________________\n",
      "activation_4 (Activation)    (None, 100)               0         \n",
      "_________________________________________________________________\n",
      "dense_2 (Dense)              (None, 50)                5050      \n",
      "_________________________________________________________________\n",
      "dropout_2 (Dropout)          (None, 50)                0         \n",
      "_________________________________________________________________\n",
      "activation_5 (Activation)    (None, 50)                0         \n",
      "_________________________________________________________________\n",
      "dense_3 (Dense)              (None, 11)                561       \n",
      "_________________________________________________________________\n",
      "activation_6 (Activation)    (None, 11)                0         \n",
      "=================================================================\n",
      "Total params: 300,803\n",
      "Trainable params: 300,803\n",
      "Non-trainable params: 0\n",
      "_________________________________________________________________\n"
     ]
    }
   ],
   "source": [
    "model.summary()"
   ]
  },
  {
   "cell_type": "code",
   "execution_count": 16,
   "metadata": {
    "collapsed": true
   },
   "outputs": [],
   "source": [
    "model.compile(loss='categorical_crossentropy', optimizer='adam', metrics=['accuracy'])\n"
   ]
  },
  {
   "cell_type": "code",
   "execution_count": 19,
   "metadata": {
    "collapsed": true
   },
   "outputs": [],
   "source": [
    "EPOCHS = 100\n"
   ]
  },
  {
   "cell_type": "code",
   "execution_count": 20,
   "metadata": {
    "scrolled": true
   },
   "outputs": [
    {
     "name": "stdout",
     "output_type": "stream",
     "text": [
      "Train on 4835 samples, validate on 538 samples\n",
      "Epoch 1/150\n",
      "4835/4835 [==============================] - 15s 3ms/step - loss: 14.9180 - acc: 0.0854 - val_loss: 14.7383 - val_acc: 0.0929\n",
      "Epoch 2/150\n",
      "4835/4835 [==============================] - 13s 3ms/step - loss: 14.8901 - acc: 0.0823 - val_loss: 14.7062 - val_acc: 0.0929\n",
      "Epoch 3/150\n",
      "4835/4835 [==============================] - 14s 3ms/step - loss: 14.8438 - acc: 0.0836 - val_loss: 14.6807 - val_acc: 0.0929\n",
      "Epoch 4/150\n",
      "4835/4835 [==============================] - 13s 3ms/step - loss: 14.8328 - acc: 0.0829 - val_loss: 14.6634 - val_acc: 0.0929\n",
      "Epoch 5/150\n",
      "4835/4835 [==============================] - 13s 3ms/step - loss: 14.8182 - acc: 0.0829 - val_loss: 14.6512 - val_acc: 0.0929\n",
      "Epoch 6/150\n",
      "4835/4835 [==============================] - 13s 3ms/step - loss: 14.8012 - acc: 0.0834 - val_loss: 14.6426 - val_acc: 0.0929\n",
      "Epoch 7/150\n",
      "4835/4835 [==============================] - 13s 3ms/step - loss: 14.7871 - acc: 0.0838 - val_loss: 14.6363 - val_acc: 0.0929\n",
      "Epoch 8/150\n",
      "4835/4835 [==============================] - 14s 3ms/step - loss: 14.7226 - acc: 0.0877 - val_loss: 14.1248 - val_acc: 0.1264\n",
      "Epoch 9/150\n",
      "4835/4835 [==============================] - 13s 3ms/step - loss: 14.6120 - acc: 0.0958 - val_loss: 14.1124 - val_acc: 0.1264\n",
      "Epoch 10/150\n",
      "4835/4835 [==============================] - 14s 3ms/step - loss: 14.6087 - acc: 0.0953 - val_loss: 14.1045 - val_acc: 0.1264\n",
      "Epoch 11/150\n",
      "4835/4835 [==============================] - 14s 3ms/step - loss: 14.6396 - acc: 0.0929 - val_loss: 14.1941 - val_acc: 0.1208\n",
      "Epoch 12/150\n",
      "4835/4835 [==============================] - 14s 3ms/step - loss: 14.4443 - acc: 0.1053 - val_loss: 14.1904 - val_acc: 0.1208\n",
      "Epoch 13/150\n",
      "4835/4835 [==============================] - 13s 3ms/step - loss: 14.3883 - acc: 0.1084 - val_loss: 14.1854 - val_acc: 0.1208\n",
      "Epoch 14/150\n",
      "4835/4835 [==============================] - 13s 3ms/step - loss: 14.4375 - acc: 0.1051 - val_loss: 14.1819 - val_acc: 0.1208\n",
      "Epoch 15/150\n",
      "4835/4835 [==============================] - 13s 3ms/step - loss: 14.4044 - acc: 0.1069 - val_loss: 14.1793 - val_acc: 0.1208\n",
      "Epoch 16/150\n",
      "4835/4835 [==============================] - 13s 3ms/step - loss: 14.4088 - acc: 0.1065 - val_loss: 14.1774 - val_acc: 0.1208\n",
      "Epoch 17/150\n",
      "4835/4835 [==============================] - 14s 3ms/step - loss: 14.3938 - acc: 0.1073 - val_loss: 14.1759 - val_acc: 0.1208\n",
      "Epoch 18/150\n",
      "4835/4835 [==============================] - 14s 3ms/step - loss: 14.4225 - acc: 0.1055 - val_loss: 14.1747 - val_acc: 0.1208\n",
      "Epoch 19/150\n",
      "4835/4835 [==============================] - 13s 3ms/step - loss: 14.3948 - acc: 0.1071 - val_loss: 14.1738 - val_acc: 0.1208\n",
      "Epoch 20/150\n",
      "4835/4835 [==============================] - 14s 3ms/step - loss: 14.4222 - acc: 0.1069 - val_loss: 14.2145 - val_acc: 0.1208\n",
      "Epoch 21/150\n",
      "4835/4835 [==============================] - 14s 3ms/step - loss: 14.4353 - acc: 0.1069 - val_loss: 14.2085 - val_acc: 0.1208\n",
      "Epoch 22/150\n",
      "4835/4835 [==============================] - 14s 3ms/step - loss: 14.5212 - acc: 0.1020 - val_loss: 15.1106 - val_acc: 0.0688\n",
      "Epoch 23/150\n",
      "4835/4835 [==============================] - 14s 3ms/step - loss: 14.7464 - acc: 0.0912 - val_loss: 15.1039 - val_acc: 0.0688\n",
      "Epoch 24/150\n",
      "4835/4835 [==============================] - 14s 3ms/step - loss: 14.7517 - acc: 0.0904 - val_loss: 15.0961 - val_acc: 0.0688\n",
      "Epoch 25/150\n",
      "4835/4835 [==============================] - 14s 3ms/step - loss: 14.6809 - acc: 0.0943 - val_loss: 15.0889 - val_acc: 0.0688\n",
      "Epoch 26/150\n",
      "4835/4835 [==============================] - 14s 3ms/step - loss: 14.7839 - acc: 0.0875 - val_loss: 15.0821 - val_acc: 0.0688\n",
      "Epoch 27/150\n",
      "4835/4835 [==============================] - 14s 3ms/step - loss: 14.7040 - acc: 0.0920 - val_loss: 15.0757 - val_acc: 0.0688\n",
      "Epoch 28/150\n",
      "4835/4835 [==============================] - 14s 3ms/step - loss: 14.6845 - acc: 0.0929 - val_loss: 15.0698 - val_acc: 0.0688\n",
      "Epoch 29/150\n",
      "4835/4835 [==============================] - 14s 3ms/step - loss: 14.7053 - acc: 0.0912 - val_loss: 15.0642 - val_acc: 0.0688\n",
      "Epoch 30/150\n",
      "4835/4835 [==============================] - 15s 3ms/step - loss: 14.6866 - acc: 0.0920 - val_loss: 15.0589 - val_acc: 0.0688\n",
      "Epoch 31/150\n",
      "4835/4835 [==============================] - 13s 3ms/step - loss: 14.6782 - acc: 0.0922 - val_loss: 15.0540 - val_acc: 0.0688\n",
      "Epoch 32/150\n",
      "4835/4835 [==============================] - 14s 3ms/step - loss: 14.7534 - acc: 0.0873 - val_loss: 15.0494 - val_acc: 0.0688\n",
      "Epoch 33/150\n",
      "4835/4835 [==============================] - 15s 3ms/step - loss: 14.6157 - acc: 0.0956 - val_loss: 15.0452 - val_acc: 0.0688\n",
      "Epoch 34/150\n",
      "4835/4835 [==============================] - 15s 3ms/step - loss: 14.6683 - acc: 0.0920 - val_loss: 15.0413 - val_acc: 0.0688\n",
      "Epoch 35/150\n",
      "4835/4835 [==============================] - 15s 3ms/step - loss: 14.7278 - acc: 0.0881 - val_loss: 15.0377 - val_acc: 0.0688\n",
      "Epoch 36/150\n",
      "4835/4835 [==============================] - 16s 3ms/step - loss: 14.7310 - acc: 0.0877 - val_loss: 15.0343 - val_acc: 0.0688\n",
      "Epoch 37/150\n",
      "4835/4835 [==============================] - 15s 3ms/step - loss: 14.6912 - acc: 0.0900 - val_loss: 15.0313 - val_acc: 0.0688\n",
      "Epoch 38/150\n",
      "4835/4835 [==============================] - 15s 3ms/step - loss: 14.7583 - acc: 0.0856 - val_loss: 15.0285 - val_acc: 0.0688\n",
      "Epoch 39/150\n",
      "4835/4835 [==============================] - 14s 3ms/step - loss: 14.7157 - acc: 0.0881 - val_loss: 15.0260 - val_acc: 0.0688\n",
      "Epoch 40/150\n",
      "4835/4835 [==============================] - 15s 3ms/step - loss: 14.6766 - acc: 0.0904 - val_loss: 15.0238 - val_acc: 0.0688\n",
      "Epoch 41/150\n",
      "4835/4835 [==============================] - 15s 3ms/step - loss: 14.6945 - acc: 0.0891 - val_loss: 15.0218 - val_acc: 0.0688\n",
      "Epoch 42/150\n",
      "4835/4835 [==============================] - 15s 3ms/step - loss: 14.6459 - acc: 0.0920 - val_loss: 15.0200 - val_acc: 0.0688\n",
      "Epoch 43/150\n",
      "4835/4835 [==============================] - 15s 3ms/step - loss: 14.6842 - acc: 0.0896 - val_loss: 15.0184 - val_acc: 0.0688\n",
      "Epoch 44/150\n",
      "4835/4835 [==============================] - 15s 3ms/step - loss: 14.7202 - acc: 0.0885 - val_loss: 15.0899 - val_acc: 0.0688\n",
      "Epoch 45/150\n",
      "4835/4835 [==============================] - 15s 3ms/step - loss: 14.9177 - acc: 0.0794 - val_loss: 15.0885 - val_acc: 0.0688\n",
      "Epoch 46/150\n",
      "4835/4835 [==============================] - 15s 3ms/step - loss: 14.9261 - acc: 0.0788 - val_loss: 15.0869 - val_acc: 0.0688\n",
      "Epoch 47/150\n",
      "4835/4835 [==============================] - 15s 3ms/step - loss: 14.9145 - acc: 0.0794 - val_loss: 15.0852 - val_acc: 0.0688\n",
      "Epoch 48/150\n",
      "4835/4835 [==============================] - 15s 3ms/step - loss: 14.8895 - acc: 0.0809 - val_loss: 15.0836 - val_acc: 0.0688\n",
      "Epoch 49/150\n",
      "4835/4835 [==============================] - 16s 3ms/step - loss: 14.8878 - acc: 0.0809 - val_loss: 15.0819 - val_acc: 0.0688\n",
      "Epoch 50/150\n",
      "4835/4835 [==============================] - 15s 3ms/step - loss: 14.8994 - acc: 0.0800 - val_loss: 15.0801 - val_acc: 0.0688\n",
      "Epoch 51/150\n",
      "4835/4835 [==============================] - 13s 3ms/step - loss: 14.8877 - acc: 0.0807 - val_loss: 15.0784 - val_acc: 0.0688\n",
      "Epoch 52/150\n",
      "4835/4835 [==============================] - 13s 3ms/step - loss: 14.9392 - acc: 0.0774 - val_loss: 15.0766 - val_acc: 0.0688\n",
      "Epoch 53/150\n",
      "4835/4835 [==============================] - 14s 3ms/step - loss: 14.9107 - acc: 0.0790 - val_loss: 15.0748 - val_acc: 0.0688\n",
      "Epoch 54/150\n",
      "4835/4835 [==============================] - 15s 3ms/step - loss: 14.9222 - acc: 0.0782 - val_loss: 15.0729 - val_acc: 0.0688\n",
      "Epoch 55/150\n",
      "4835/4835 [==============================] - 14s 3ms/step - loss: 14.9036 - acc: 0.0792 - val_loss: 15.0710 - val_acc: 0.0688\n",
      "Epoch 56/150\n",
      "4835/4835 [==============================] - 14s 3ms/step - loss: 14.9117 - acc: 0.0786 - val_loss: 15.0690 - val_acc: 0.0688\n",
      "Epoch 57/150\n",
      "4835/4835 [==============================] - 14s 3ms/step - loss: 14.8664 - acc: 0.0813 - val_loss: 15.0670 - val_acc: 0.0688\n",
      "Epoch 58/150\n",
      "4835/4835 [==============================] - 14s 3ms/step - loss: 14.8977 - acc: 0.0792 - val_loss: 15.0649 - val_acc: 0.0688\n",
      "Epoch 59/150\n",
      "4835/4835 [==============================] - 12s 3ms/step - loss: 14.8589 - acc: 0.0815 - val_loss: 15.0628 - val_acc: 0.0688\n",
      "Epoch 60/150\n",
      "4835/4835 [==============================] - 12s 3ms/step - loss: 14.9268 - acc: 0.0771 - val_loss: 15.0607 - val_acc: 0.0688\n",
      "Epoch 61/150\n",
      "4835/4835 [==============================] - 12s 3ms/step - loss: 14.8913 - acc: 0.0792 - val_loss: 15.0585 - val_acc: 0.0688\n",
      "Epoch 62/150\n",
      "4835/4835 [==============================] - 13s 3ms/step - loss: 14.8358 - acc: 0.0825 - val_loss: 15.0563 - val_acc: 0.0688\n",
      "Epoch 63/150\n",
      "4835/4835 [==============================] - 12s 3ms/step - loss: 14.8902 - acc: 0.0790 - val_loss: 15.0540 - val_acc: 0.0688\n",
      "Epoch 64/150\n",
      "4835/4835 [==============================] - 12s 3ms/step - loss: 14.9213 - acc: 0.0769 - val_loss: 15.0517 - val_acc: 0.0688\n",
      "Epoch 65/150\n",
      "4835/4835 [==============================] - 12s 3ms/step - loss: 14.8923 - acc: 0.0786 - val_loss: 15.0494 - val_acc: 0.0688\n",
      "Epoch 66/150\n",
      "4835/4835 [==============================] - 13s 3ms/step - loss: 14.8500 - acc: 0.0811 - val_loss: 15.0471 - val_acc: 0.0688\n",
      "Epoch 67/150\n",
      "4835/4835 [==============================] - 13s 3ms/step - loss: 14.8644 - acc: 0.0800 - val_loss: 15.0448 - val_acc: 0.0688\n",
      "Epoch 68/150\n",
      "4835/4835 [==============================] - 13s 3ms/step - loss: 14.8587 - acc: 0.0802 - val_loss: 15.0425 - val_acc: 0.0688\n",
      "Epoch 69/150\n",
      "4835/4835 [==============================] - 13s 3ms/step - loss: 14.8698 - acc: 0.0794 - val_loss: 15.0402 - val_acc: 0.0688\n",
      "Epoch 70/150\n",
      "4835/4835 [==============================] - 13s 3ms/step - loss: 14.8142 - acc: 0.0827 - val_loss: 15.0380 - val_acc: 0.0688\n",
      "Epoch 71/150\n",
      "4835/4835 [==============================] - 13s 3ms/step - loss: 14.8386 - acc: 0.0811 - val_loss: 15.0357 - val_acc: 0.0688\n",
      "Epoch 72/150\n",
      "4835/4835 [==============================] - 13s 3ms/step - loss: 14.8897 - acc: 0.0778 - val_loss: 15.0336 - val_acc: 0.0688\n",
      "Epoch 73/150\n",
      "4835/4835 [==============================] - 13s 3ms/step - loss: 14.8309 - acc: 0.0813 - val_loss: 15.0314 - val_acc: 0.0688\n",
      "Epoch 74/150\n",
      "4835/4835 [==============================] - 13s 3ms/step - loss: 14.8555 - acc: 0.0796 - val_loss: 15.0294 - val_acc: 0.0688\n",
      "Epoch 75/150\n",
      "4835/4835 [==============================] - 14s 3ms/step - loss: 14.8401 - acc: 0.0805 - val_loss: 15.0274 - val_acc: 0.0688\n",
      "Epoch 76/150\n",
      "4835/4835 [==============================] - 13s 3ms/step - loss: 14.8282 - acc: 0.0811 - val_loss: 15.0255 - val_acc: 0.0688\n",
      "Epoch 77/150\n",
      "4835/4835 [==============================] - 13s 3ms/step - loss: 14.8697 - acc: 0.0784 - val_loss: 15.0237 - val_acc: 0.0688\n",
      "Epoch 78/150\n",
      "4835/4835 [==============================] - 13s 3ms/step - loss: 14.8546 - acc: 0.0792 - val_loss: 15.0220 - val_acc: 0.0688\n",
      "Epoch 79/150\n",
      "4835/4835 [==============================] - 13s 3ms/step - loss: 14.8530 - acc: 0.0792 - val_loss: 15.0205 - val_acc: 0.0688\n",
      "Epoch 80/150\n",
      "4835/4835 [==============================] - 14s 3ms/step - loss: 14.8581 - acc: 0.0788 - val_loss: 15.0190 - val_acc: 0.0688\n",
      "Epoch 81/150\n",
      "4835/4835 [==============================] - 13s 3ms/step - loss: 14.8834 - acc: 0.0771 - val_loss: 15.0177 - val_acc: 0.0688\n",
      "Epoch 82/150\n",
      "4835/4835 [==============================] - 13s 3ms/step - loss: 14.8188 - acc: 0.0811 - val_loss: 15.0165 - val_acc: 0.0688\n",
      "Epoch 83/150\n",
      "4835/4835 [==============================] - 13s 3ms/step - loss: 14.8710 - acc: 0.0778 - val_loss: 15.0154 - val_acc: 0.0688\n",
      "Epoch 84/150\n",
      "4835/4835 [==============================] - 13s 3ms/step - loss: 14.8499 - acc: 0.0790 - val_loss: 15.0144 - val_acc: 0.0688\n",
      "Epoch 85/150\n",
      "4835/4835 [==============================] - 13s 3ms/step - loss: 14.8524 - acc: 0.0788 - val_loss: 15.0136 - val_acc: 0.0688\n",
      "Epoch 86/150\n",
      "4835/4835 [==============================] - 13s 3ms/step - loss: 14.8616 - acc: 0.0782 - val_loss: 15.0128 - val_acc: 0.0688\n",
      "Epoch 87/150\n",
      "4835/4835 [==============================] - 13s 3ms/step - loss: 14.8176 - acc: 0.0809 - val_loss: 15.0122 - val_acc: 0.0688\n",
      "Epoch 88/150\n",
      "4835/4835 [==============================] - 13s 3ms/step - loss: 14.8370 - acc: 0.0796 - val_loss: 15.0117 - val_acc: 0.0688\n",
      "Epoch 89/150\n",
      "4835/4835 [==============================] - 14s 3ms/step - loss: 14.8598 - acc: 0.0782 - val_loss: 15.0112 - val_acc: 0.0688\n",
      "Epoch 90/150\n",
      "4835/4835 [==============================] - 14s 3ms/step - loss: 14.8301 - acc: 0.0800 - val_loss: 15.0492 - val_acc: 0.0688\n",
      "Epoch 91/150\n",
      "4835/4835 [==============================] - 14s 3ms/step - loss: 14.8971 - acc: 0.0786 - val_loss: 15.0540 - val_acc: 0.0688\n",
      "Epoch 92/150\n",
      "4835/4835 [==============================] - 14s 3ms/step - loss: 14.8907 - acc: 0.0788 - val_loss: 15.0506 - val_acc: 0.0688\n",
      "Epoch 93/150\n",
      "4835/4835 [==============================] - 14s 3ms/step - loss: 14.8840 - acc: 0.0790 - val_loss: 15.0474 - val_acc: 0.0688\n",
      "Epoch 94/150\n",
      "4835/4835 [==============================] - 14s 3ms/step - loss: 14.8710 - acc: 0.0796 - val_loss: 15.0445 - val_acc: 0.0688\n",
      "Epoch 95/150\n",
      "4835/4835 [==============================] - 14s 3ms/step - loss: 14.8748 - acc: 0.0792 - val_loss: 15.0418 - val_acc: 0.0688\n",
      "Epoch 96/150\n",
      "4835/4835 [==============================] - 14s 3ms/step - loss: 14.8689 - acc: 0.0794 - val_loss: 15.0392 - val_acc: 0.0688\n",
      "Epoch 97/150\n",
      "4835/4835 [==============================] - 14s 3ms/step - loss: 14.8764 - acc: 0.0788 - val_loss: 15.0368 - val_acc: 0.0688\n",
      "Epoch 98/150\n",
      "4835/4835 [==============================] - 14s 3ms/step - loss: 14.8808 - acc: 0.0784 - val_loss: 15.0346 - val_acc: 0.0688\n",
      "Epoch 99/150\n",
      "4835/4835 [==============================] - 14s 3ms/step - loss: 14.8652 - acc: 0.0792 - val_loss: 15.0325 - val_acc: 0.0688\n",
      "Epoch 100/150\n",
      "4835/4835 [==============================] - 14s 3ms/step - loss: 14.8565 - acc: 0.0796 - val_loss: 15.0305 - val_acc: 0.0688\n",
      "Epoch 101/150\n",
      "4835/4835 [==============================] - 14s 3ms/step - loss: 14.8546 - acc: 0.0796 - val_loss: 15.0286 - val_acc: 0.0688\n",
      "Epoch 102/150\n",
      "4835/4835 [==============================] - 14s 3ms/step - loss: 14.8594 - acc: 0.0792 - val_loss: 15.0268 - val_acc: 0.0688\n",
      "Epoch 103/150\n",
      "4835/4835 [==============================] - 14s 3ms/step - loss: 14.8710 - acc: 0.0784 - val_loss: 15.0251 - val_acc: 0.0688\n",
      "Epoch 104/150\n",
      "4835/4835 [==============================] - 14s 3ms/step - loss: 14.8527 - acc: 0.0794 - val_loss: 15.0235 - val_acc: 0.0688\n",
      "Epoch 105/150\n",
      "4835/4835 [==============================] - 14s 3ms/step - loss: 14.8711 - acc: 0.0782 - val_loss: 15.0220 - val_acc: 0.0688\n",
      "Epoch 106/150\n",
      "4835/4835 [==============================] - 14s 3ms/step - loss: 14.8497 - acc: 0.0794 - val_loss: 15.0206 - val_acc: 0.0688\n",
      "Epoch 107/150\n",
      "4835/4835 [==============================] - 14s 3ms/step - loss: 14.8317 - acc: 0.0805 - val_loss: 15.0193 - val_acc: 0.0688\n",
      "Epoch 108/150\n",
      "4835/4835 [==============================] - 14s 3ms/step - loss: 14.8404 - acc: 0.0798 - val_loss: 15.0181 - val_acc: 0.0688\n",
      "Epoch 109/150\n",
      "4835/4835 [==============================] - 14s 3ms/step - loss: 14.8526 - acc: 0.0790 - val_loss: 15.0170 - val_acc: 0.0688\n",
      "Epoch 110/150\n",
      "4835/4835 [==============================] - 14s 3ms/step - loss: 14.8583 - acc: 0.0786 - val_loss: 15.0161 - val_acc: 0.0688\n",
      "Epoch 111/150\n",
      "4835/4835 [==============================] - 14s 3ms/step - loss: 14.8473 - acc: 0.0792 - val_loss: 15.0152 - val_acc: 0.0688\n",
      "Epoch 112/150\n",
      "4835/4835 [==============================] - 14s 3ms/step - loss: 14.8398 - acc: 0.0796 - val_loss: 15.0143 - val_acc: 0.0688\n",
      "Epoch 113/150\n",
      "4835/4835 [==============================] - 14s 3ms/step - loss: 14.8457 - acc: 0.0792 - val_loss: 15.0136 - val_acc: 0.0688\n",
      "Epoch 114/150\n",
      "4835/4835 [==============================] - 14s 3ms/step - loss: 14.8384 - acc: 0.0796 - val_loss: 15.0130 - val_acc: 0.0688\n",
      "Epoch 115/150\n",
      "4835/4835 [==============================] - 14s 3ms/step - loss: 14.8544 - acc: 0.0786 - val_loss: 15.0124 - val_acc: 0.0688\n",
      "Epoch 116/150\n",
      "4835/4835 [==============================] - 14s 3ms/step - loss: 14.8339 - acc: 0.0798 - val_loss: 15.0119 - val_acc: 0.0688\n",
      "Epoch 117/150\n",
      "4835/4835 [==============================] - 14s 3ms/step - loss: 14.8368 - acc: 0.0796 - val_loss: 15.0115 - val_acc: 0.0688\n"
     ]
    },
    {
     "name": "stdout",
     "output_type": "stream",
     "text": [
      "Epoch 118/150\n",
      "4835/4835 [==============================] - 12s 3ms/step - loss: 14.8397 - acc: 0.0794 - val_loss: 15.0112 - val_acc: 0.0688\n",
      "Epoch 119/150\n",
      "4835/4835 [==============================] - 12s 3ms/step - loss: 14.8594 - acc: 0.0782 - val_loss: 15.0109 - val_acc: 0.0688\n",
      "Epoch 120/150\n",
      "4835/4835 [==============================] - 12s 3ms/step - loss: 14.8524 - acc: 0.0786 - val_loss: 15.0106 - val_acc: 0.0688\n",
      "Epoch 121/150\n",
      "4835/4835 [==============================] - 12s 3ms/step - loss: 14.8489 - acc: 0.0788 - val_loss: 15.0104 - val_acc: 0.0688\n",
      "Epoch 122/150\n",
      "4835/4835 [==============================] - 12s 3ms/step - loss: 14.8387 - acc: 0.0794 - val_loss: 15.0102 - val_acc: 0.0688\n",
      "Epoch 123/150\n",
      "4835/4835 [==============================] - 13s 3ms/step - loss: 14.8285 - acc: 0.0800 - val_loss: 15.0101 - val_acc: 0.0688\n",
      "Epoch 124/150\n",
      "4835/4835 [==============================] - 13s 3ms/step - loss: 14.8484 - acc: 0.0788 - val_loss: 15.0100 - val_acc: 0.0688\n",
      "Epoch 125/150\n",
      "4835/4835 [==============================] - 13s 3ms/step - loss: 14.8183 - acc: 0.0807 - val_loss: 15.0099 - val_acc: 0.0688\n",
      "Epoch 126/150\n",
      "4835/4835 [==============================] - 13s 3ms/step - loss: 14.8315 - acc: 0.0798 - val_loss: 15.0098 - val_acc: 0.0688\n",
      "Epoch 127/150\n",
      "4835/4835 [==============================] - 13s 3ms/step - loss: 14.8315 - acc: 0.0798 - val_loss: 15.0097 - val_acc: 0.0688\n",
      "Epoch 128/150\n",
      "4835/4835 [==============================] - 13s 3ms/step - loss: 14.8403 - acc: 0.0792 - val_loss: 15.0289 - val_acc: 0.0688\n",
      "Epoch 129/150\n",
      "4835/4835 [==============================] - 13s 3ms/step - loss: 14.7862 - acc: 0.0838 - val_loss: 15.0255 - val_acc: 0.0688\n",
      "Epoch 130/150\n",
      "4835/4835 [==============================] - 13s 3ms/step - loss: 14.7722 - acc: 0.0844 - val_loss: 15.0222 - val_acc: 0.0688\n",
      "Epoch 131/150\n",
      "4835/4835 [==============================] - 13s 3ms/step - loss: 14.8126 - acc: 0.0817 - val_loss: 15.0197 - val_acc: 0.0688\n",
      "Epoch 132/150\n",
      "4835/4835 [==============================] - 13s 3ms/step - loss: 14.8204 - acc: 0.0811 - val_loss: 15.0177 - val_acc: 0.0688\n",
      "Epoch 133/150\n",
      "4835/4835 [==============================] - 13s 3ms/step - loss: 14.7686 - acc: 0.0842 - val_loss: 15.0161 - val_acc: 0.0688\n",
      "Epoch 134/150\n",
      "4835/4835 [==============================] - 13s 3ms/step - loss: 14.7372 - acc: 0.0860 - val_loss: 15.0149 - val_acc: 0.0688\n",
      "Epoch 135/150\n",
      "4835/4835 [==============================] - 13s 3ms/step - loss: 14.7794 - acc: 0.0834 - val_loss: 15.0138 - val_acc: 0.0688\n",
      "Epoch 136/150\n",
      "4835/4835 [==============================] - 13s 3ms/step - loss: 14.7818 - acc: 0.0831 - val_loss: 15.0130 - val_acc: 0.0688\n",
      "Epoch 137/150\n",
      "4835/4835 [==============================] - 13s 3ms/step - loss: 14.6943 - acc: 0.0885 - val_loss: 15.0123 - val_acc: 0.0688\n",
      "Epoch 138/150\n",
      "4835/4835 [==============================] - 13s 3ms/step - loss: 14.6770 - acc: 0.0896 - val_loss: 15.0117 - val_acc: 0.0688\n",
      "Epoch 139/150\n",
      "4835/4835 [==============================] - 13s 3ms/step - loss: 14.7799 - acc: 0.0831 - val_loss: 15.0113 - val_acc: 0.0688\n",
      "Epoch 140/150\n",
      "4835/4835 [==============================] - 13s 3ms/step - loss: 14.7395 - acc: 0.0856 - val_loss: 15.0109 - val_acc: 0.0688\n",
      "Epoch 141/150\n",
      "4835/4835 [==============================] - 13s 3ms/step - loss: 14.7992 - acc: 0.0819 - val_loss: 15.0106 - val_acc: 0.0688\n",
      "Epoch 142/150\n",
      "4835/4835 [==============================] - 14s 3ms/step - loss: 14.7556 - acc: 0.0846 - val_loss: 15.0104 - val_acc: 0.0688\n",
      "Epoch 143/150\n",
      "4835/4835 [==============================] - 14s 3ms/step - loss: 14.7920 - acc: 0.0823 - val_loss: 15.0102 - val_acc: 0.0688\n",
      "Epoch 144/150\n",
      "4835/4835 [==============================] - 14s 3ms/step - loss: 14.7218 - acc: 0.0867 - val_loss: 15.0101 - val_acc: 0.0688\n",
      "Epoch 145/150\n",
      "4835/4835 [==============================] - 14s 3ms/step - loss: 14.8284 - acc: 0.0800 - val_loss: 15.0100 - val_acc: 0.0688\n",
      "Epoch 146/150\n",
      "4835/4835 [==============================] - 14s 3ms/step - loss: 14.7550 - acc: 0.0846 - val_loss: 15.0099 - val_acc: 0.0688\n",
      "Epoch 147/150\n",
      "4835/4835 [==============================] - 13s 3ms/step - loss: 14.8015 - acc: 0.0817 - val_loss: 15.0098 - val_acc: 0.0688\n",
      "Epoch 148/150\n",
      "4835/4835 [==============================] - 13s 3ms/step - loss: 14.8731 - acc: 0.0788 - val_loss: 15.0375 - val_acc: 0.0688\n",
      "Epoch 149/150\n",
      "4835/4835 [==============================] - 13s 3ms/step - loss: 14.8643 - acc: 0.0794 - val_loss: 15.0344 - val_acc: 0.0688\n",
      "Epoch 150/150\n",
      "4835/4835 [==============================] - 13s 3ms/step - loss: 14.8548 - acc: 0.0798 - val_loss: 15.0318 - val_acc: 0.0688\n"
     ]
    }
   ],
   "source": [
    "t1 = time.time()\n",
    "hist_model =model.fit(x_train, y_train, validation_data=(x_test, y_test), epochs=EPOCHS)\n",
    "t2=time.time()"
   ]
  },
  {
   "cell_type": "code",
   "execution_count": 21,
   "metadata": {},
   "outputs": [
    {
     "name": "stdout",
     "output_type": "stream",
     "text": [
      "('time required to train ', 2052.606021165848, 'sec')\n"
     ]
    }
   ],
   "source": [
    "print(\"time required to train \",t2-t1,\"sec\")"
   ]
  },
  {
   "cell_type": "code",
   "execution_count": 15,
   "metadata": {
    "collapsed": true
   },
   "outputs": [],
   "source": [
    "# 100 EPOCHS \n",
    "#loss: 0.0420 - acc: 0.9885 - val_loss: 0.4082 - val_acc: 0.9050"
   ]
  },
  {
   "cell_type": "code",
   "execution_count": 25,
   "metadata": {},
   "outputs": [
    {
     "data": {
      "text/plain": [
       "[<matplotlib.lines.Line2D at 0x7fc4e895b490>]"
      ]
     },
     "execution_count": 25,
     "metadata": {},
     "output_type": "execute_result"
    },
    {
     "data": {
      "image/png": "[encoded data removed]",
      "text/plain": [
       "<matplotlib.figure.Figure at 0x7fc4e89b0f90>"
      ]
     },
     "metadata": {},
     "output_type": "display_data"
    }
   ],
   "source": [
    "loss = hist_model.history['loss']\n",
    "\n",
    "plt.plot(loss)"
   ]
  },
  {
   "cell_type": "code",
   "execution_count": 26,
   "metadata": {},
   "outputs": [
    {
     "data": {
      "text/plain": [
       "66"
      ]
     },
     "execution_count": 26,
     "metadata": {},
     "output_type": "execute_result"
    }
   ],
   "source": [
    "index = np.random.randint(0,206)\n",
    "\n",
    "index"
   ]
  },
  {
   "cell_type": "code",
   "execution_count": 27,
   "metadata": {
    "collapsed": true
   },
   "outputs": [],
   "source": [
    "pred = model.predict(x_test[index].reshape(1,100,100,3))"
   ]
  },
  {
   "cell_type": "code",
   "execution_count": 28,
   "metadata": {},
   "outputs": [
    {
     "data": {
      "text/plain": [
       "5"
      ]
     },
     "execution_count": 28,
     "metadata": {},
     "output_type": "execute_result"
    }
   ],
   "source": [
    "pred_index = np.argmax(pred)\n",
    "\n",
    "pred_index"
   ]
  },
  {
   "cell_type": "code",
   "execution_count": 29,
   "metadata": {},
   "outputs": [
    {
     "data": {
      "text/plain": [
       "<matplotlib.image.AxesImage at 0x7fc4e8868950>"
      ]
     },
     "execution_count": 29,
     "metadata": {},
     "output_type": "execute_result"
    },
    {
     "data": {
      "image/png": "[encoded data removed]",
      "text/plain": [
       "<matplotlib.figure.Figure at 0x7fc4e895bf50>"
      ]
     },
     "metadata": {},
     "output_type": "display_data"
    }
   ],
   "source": [
    "plt.imshow(x_test[index])"
   ]
  },
  {
   "cell_type": "code",
   "execution_count": 30,
   "metadata": {
    "collapsed": true
   },
   "outputs": [],
   "source": [
    "def predict_img():\n",
    "    index = np.random.randint(0,206)\n",
    "    #print(\"index:\",index)\n",
    "    pred = model.predict(x_test[index].reshape(1,100,100,3))\n",
    "    print(\"predicted image is:\",np.argmax(pred))\n",
    "    print(\"====showing the image======\")\n",
    "    plt.imshow(x_test[index],cmap='gray')\n",
    "    "
   ]
  },
  {
   "cell_type": "code",
   "execution_count": 56,
   "metadata": {},
   "outputs": [
    {
     "name": "stdout",
     "output_type": "stream",
     "text": [
      "('predicted image is:', 1)\n",
      "====showing the image======\n"
     ]
    },
    {
     "data": {
      "image/png": "[encoded data removed]",
      "text/plain": [
       "<matplotlib.figure.Figure at 0x7fc4d62f37d0>"
      ]
     },
     "metadata": {},
     "output_type": "display_data"
    }
   ],
   "source": [
    "predict_img()"
   ]
  },
  {
   "cell_type": "code",
   "execution_count": 22,
   "metadata": {
    "collapsed": true
   },
   "outputs": [],
   "source": [
    "model.save(\"model_rgb_low.h5\")"
   ]
  },
  {
   "cell_type": "code",
   "execution_count": 58,
   "metadata": {},
   "outputs": [
    {
     "data": {
      "text/plain": [
       "<keras.models.Sequential at 0x7fc50e649810>"
      ]
     },
     "execution_count": 58,
     "metadata": {},
     "output_type": "execute_result"
    }
   ],
   "source": [
    "model"
   ]
  },
  {
   "cell_type": "code",
   "execution_count": null,
   "metadata": {
    "collapsed": true
   },
   "outputs": [],
   "source": []
  }
 ],
 "metadata": {
  "kernelspec": {
   "display_name": "Python 2",
   "language": "python",
   "name": "python2"
  },
  "language_info": {
   "codemirror_mode": {
    "name": "ipython",
    "version": 2
   },
   "file_extension": ".py",
   "mimetype": "text/x-python",
   "name": "python",
   "nbconvert_exporter": "python",
   "pygments_lexer": "ipython2",
   "version": "2.7.14"
  }
 },
 "nbformat": 4,
 "nbformat_minor": 2
}
