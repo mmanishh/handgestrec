{
 "cells": [
  {
   "cell_type": "code",
   "execution_count": 1,
   "metadata": {
    "collapsed": true
   },
   "outputs": [],
   "source": [
    "import numpy as np\n",
    "import matplotlib.pyplot as plt"
   ]
  },
  {
   "cell_type": "code",
   "execution_count": 2,
   "metadata": {},
   "outputs": [
    {
     "name": "stderr",
     "output_type": "stream",
     "text": [
      "Using TensorFlow backend.\n"
     ]
    }
   ],
   "source": [
    "from keras.models import Sequential\n",
    "from keras.layers import Flatten, Activation, Dense, Lambda,Dropout\n",
    "from keras.layers.convolutional import Conv2D\n",
    "from keras.layers.pooling import MaxPool2D\n",
    "from keras.preprocessing.image import ImageDataGenerator, load_img, img_to_array\n"
   ]
  },
  {
   "cell_type": "code",
   "execution_count": 6,
   "metadata": {
    "collapsed": true
   },
   "outputs": [],
   "source": [
    "datagen = ImageDataGenerator(rescale=1./255)"
   ]
  },
  {
   "cell_type": "code",
   "execution_count": 3,
   "metadata": {
    "collapsed": true
   },
   "outputs": [],
   "source": [
    "train_dir = 'dataset/train/'\n",
    "validation_dir = 'dataset/test/'\n",
    "test_dir = 'dataset/test/'\n"
   ]
  },
  {
   "cell_type": "code",
   "execution_count": 4,
   "metadata": {
    "collapsed": true
   },
   "outputs": [],
   "source": [
    "image_w = 100\n",
    "image_h = 100"
   ]
  },
  {
   "cell_type": "code",
   "execution_count": 7,
   "metadata": {},
   "outputs": [
    {
     "name": "stdout",
     "output_type": "stream",
     "text": [
      "Found 2062 images belonging to 10 classes.\n"
     ]
    }
   ],
   "source": [
    "train_generator = datagen.flow_from_directory(train_dir,\n",
    "                                             target_size = (image_w, image_h),\n",
    "                                             batch_size = 32,\n",
    "                                             class_mode = 'categorical')"
   ]
  },
  {
   "cell_type": "code",
   "execution_count": 8,
   "metadata": {},
   "outputs": [
    {
     "name": "stdout",
     "output_type": "stream",
     "text": [
      "Found 108 images belonging to 10 classes.\n"
     ]
    }
   ],
   "source": [
    "validation_generator = datagen.flow_from_directory(test_dir,\n",
    "                                             target_size = (image_w, image_h),\n",
    "                                             batch_size = 32,\n",
    "                                             class_mode = 'categorical')"
   ]
  },
  {
   "cell_type": "code",
   "execution_count": 9,
   "metadata": {},
   "outputs": [
    {
     "name": "stdout",
     "output_type": "stream",
     "text": [
      "Found 108 images belonging to 10 classes.\n"
     ]
    }
   ],
   "source": [
    "test_generator = datagen.flow_from_directory(test_dir,\n",
    "                                             target_size = (image_w, image_h),\n",
    "                                             batch_size = 32,\n",
    "                                             class_mode = 'categorical')"
   ]
  },
  {
   "cell_type": "code",
   "execution_count": 10,
   "metadata": {
    "collapsed": true
   },
   "outputs": [],
   "source": [
    "# def LeNet(width, height, channels, output):\n",
    "#     model = Sequential()\n",
    "#     model.add(Conv2D(filters=32, kernel_size=(5,5), strides=(2,2), input_shape=(width, height, channels)))\n",
    "    \n",
    "# #     model.add(Conv2D(filters=32, kernel_size=(5,5), strides=(2,2), input_shape=(width, height, channels))\n",
    "\n",
    "#     model.add(Activation('relu'))\n",
    "    \n",
    "#     model.add(MaxPool2D(pool_size=(2,2)))\n",
    "    \n",
    "#     model.add(Conv2D(filters=64, kernel_size=(5,5), strides=(2,2)))\n",
    "    \n",
    "#     model.add(Activation('relu'))\n",
    "    \n",
    "#     model.add(MaxPool2D(pool_size=(2,2)))\n",
    "    \n",
    "#     model.add(Flatten())\n",
    "    \n",
    "#     model.add(Dense(100))\n",
    "    \n",
    "#     model.add(Activation('relu'))\n",
    "    \n",
    "#     model.add(Dense(output))\n",
    "#     model.add(Activation('softmax'))\n",
    "    \n",
    "#     return model"
   ]
  },
  {
   "cell_type": "code",
   "execution_count": 46,
   "metadata": {
    "collapsed": true
   },
   "outputs": [],
   "source": [
    "#Our Model\n",
    "def LeNet(width, height, channels, output):\n",
    "    model = Sequential()\n",
    "    \n",
    "    #Convulation\n",
    "    model.add(Conv2D(filters=32, kernel_size=(3,3), strides=(2,2), input_shape=(width, height, channels)))\n",
    "    \n",
    "    #ReLU Activation\n",
    "    model.add(Activation('relu'))\n",
    "    \n",
    "    #Pooling\n",
    "    model.add(MaxPool2D(pool_size=(2,2)))\n",
    "    \n",
    "    #Convolution\n",
    "    model.add(Conv2D(filters=64, kernel_size=(3,3), strides=(2,2)))\n",
    "    \n",
    "    #ReLU Activation\n",
    "    model.add(Activation('relu'))\n",
    "    \n",
    "    #Pooling\n",
    "    model.add(MaxPool2D(pool_size=(2,2)))\n",
    "    \n",
    "    model.add(Flatten())\n",
    "    \n",
    "    #Hidden Layer\n",
    "    model.add(Dense(100))\n",
    "    \n",
    "    model.add(Activation('relu'))\n",
    "    \n",
    "    #Hidden Layer\n",
    "    model.add(Dense(50))\n",
    "    \n",
    "    #adding dropout\n",
    "    \n",
    "    model.add(Dropout(0.2))\n",
    "    \n",
    "    model.add(Activation('relu'))\n",
    "    \n",
    "    model.add(Dense(output))\n",
    "    \n",
    "    model.add(Activation('softmax'))\n",
    "    \n",
    "    return model\n",
    "    \n",
    "    #We can also add dropout"
   ]
  },
  {
   "cell_type": "code",
   "execution_count": 47,
   "metadata": {},
   "outputs": [
    {
     "data": {
      "text/plain": [
       "2062"
      ]
     },
     "execution_count": 47,
     "metadata": {},
     "output_type": "execute_result"
    }
   ],
   "source": [
    "train_generator.samples"
   ]
  },
  {
   "cell_type": "code",
   "execution_count": 48,
   "metadata": {
    "collapsed": true
   },
   "outputs": [],
   "source": [
    "EPOCHS = 20\n",
    "train_sample = train_generator.samples\n",
    "validation_sample = validation_generator.samples\n",
    "test_sample = test_generator.samples"
   ]
  },
  {
   "cell_type": "code",
   "execution_count": 49,
   "metadata": {
    "collapsed": true
   },
   "outputs": [],
   "source": [
    "model = LeNet(image_w, image_h, 3, 10)"
   ]
  },
  {
   "cell_type": "code",
   "execution_count": 50,
   "metadata": {},
   "outputs": [
    {
     "name": "stdout",
     "output_type": "stream",
     "text": [
      "_________________________________________________________________\n",
      "Layer (type)                 Output Shape              Param #   \n",
      "=================================================================\n",
      "conv2d_3 (Conv2D)            (None, 49, 49, 32)        896       \n",
      "_________________________________________________________________\n",
      "activation_5 (Activation)    (None, 49, 49, 32)        0         \n",
      "_________________________________________________________________\n",
      "max_pooling2d_3 (MaxPooling2 (None, 24, 24, 32)        0         \n",
      "_________________________________________________________________\n",
      "conv2d_4 (Conv2D)            (None, 11, 11, 64)        18496     \n",
      "_________________________________________________________________\n",
      "activation_6 (Activation)    (None, 11, 11, 64)        0         \n",
      "_________________________________________________________________\n",
      "max_pooling2d_4 (MaxPooling2 (None, 5, 5, 64)          0         \n",
      "_________________________________________________________________\n",
      "flatten_2 (Flatten)          (None, 1600)              0         \n",
      "_________________________________________________________________\n",
      "dense_3 (Dense)              (None, 100)               160100    \n",
      "_________________________________________________________________\n",
      "activation_7 (Activation)    (None, 100)               0         \n",
      "_________________________________________________________________\n",
      "dense_4 (Dense)              (None, 50)                5050      \n",
      "_________________________________________________________________\n",
      "dropout_1 (Dropout)          (None, 50)                0         \n",
      "_________________________________________________________________\n",
      "activation_8 (Activation)    (None, 50)                0         \n",
      "_________________________________________________________________\n",
      "dense_5 (Dense)              (None, 10)                510       \n",
      "_________________________________________________________________\n",
      "activation_9 (Activation)    (None, 10)                0         \n",
      "=================================================================\n",
      "Total params: 185,052\n",
      "Trainable params: 185,052\n",
      "Non-trainable params: 0\n",
      "_________________________________________________________________\n"
     ]
    }
   ],
   "source": [
    "model.summary()"
   ]
  },
  {
   "cell_type": "code",
   "execution_count": 51,
   "metadata": {
    "collapsed": true
   },
   "outputs": [],
   "source": [
    "batch_size = train_generator.batch_size"
   ]
  },
  {
   "cell_type": "code",
   "execution_count": 52,
   "metadata": {
    "collapsed": true
   },
   "outputs": [],
   "source": [
    "model.compile(optimizer='adam',\n",
    "             loss='mse',\n",
    "             metrics=['accuracy'])"
   ]
  },
  {
   "cell_type": "code",
   "execution_count": 53,
   "metadata": {},
   "outputs": [
    {
     "name": "stdout",
     "output_type": "stream",
     "text": [
      "Epoch 1/20\n",
      "64/64 [==============================] - 10s 152ms/step - loss: 0.0899 - acc: 0.1123 - val_loss: 0.0890 - val_acc: 0.1667\n",
      "Epoch 2/20\n",
      "64/64 [==============================] - 10s 160ms/step - loss: 0.0762 - acc: 0.3766 - val_loss: 0.0688 - val_acc: 0.4079\n",
      "Epoch 3/20\n",
      "64/64 [==============================] - 9s 143ms/step - loss: 0.0525 - acc: 0.5967 - val_loss: 0.0421 - val_acc: 0.7105\n",
      "Epoch 4/20\n",
      "64/64 [==============================] - 9s 143ms/step - loss: 0.0385 - acc: 0.7233 - val_loss: 0.0386 - val_acc: 0.7105\n",
      "Epoch 5/20\n",
      "64/64 [==============================] - 10s 154ms/step - loss: 0.0307 - acc: 0.7928 - val_loss: 0.0280 - val_acc: 0.7917\n",
      "Epoch 6/20\n",
      "64/64 [==============================] - 10s 161ms/step - loss: 0.0237 - acc: 0.8397 - val_loss: 0.0208 - val_acc: 0.8421\n",
      "Epoch 7/20\n",
      "64/64 [==============================] - 10s 163ms/step - loss: 0.0215 - acc: 0.8569 - val_loss: 0.0201 - val_acc: 0.8816\n",
      "Epoch 8/20\n",
      "64/64 [==============================] - 10s 154ms/step - loss: 0.0193 - acc: 0.8659 - val_loss: 0.0246 - val_acc: 0.8289\n",
      "Epoch 9/20\n",
      "64/64 [==============================] - 10s 152ms/step - loss: 0.0178 - acc: 0.8789 - val_loss: 0.0180 - val_acc: 0.8750\n",
      "Epoch 10/20\n",
      "64/64 [==============================] - 10s 163ms/step - loss: 0.0143 - acc: 0.9106 - val_loss: 0.0161 - val_acc: 0.9342\n",
      "Epoch 11/20\n",
      "64/64 [==============================] - 10s 150ms/step - loss: 0.0128 - acc: 0.9162 - val_loss: 0.0174 - val_acc: 0.8553\n",
      "Epoch 12/20\n",
      "64/64 [==============================] - 10s 151ms/step - loss: 0.0105 - acc: 0.9275 - val_loss: 0.0064 - val_acc: 0.9737\n",
      "Epoch 13/20\n",
      "64/64 [==============================] - 10s 162ms/step - loss: 0.0093 - acc: 0.9429 - val_loss: 0.0098 - val_acc: 0.9375\n",
      "Epoch 14/20\n",
      "64/64 [==============================] - 10s 154ms/step - loss: 0.0089 - acc: 0.9398 - val_loss: 0.0037 - val_acc: 0.9868\n",
      "Epoch 15/20\n",
      "64/64 [==============================] - 11s 171ms/step - loss: 0.0079 - acc: 0.9486 - val_loss: 0.0076 - val_acc: 0.9605\n",
      "Epoch 16/20\n",
      "64/64 [==============================] - 10s 163ms/step - loss: 0.0077 - acc: 0.9492 - val_loss: 0.0050 - val_acc: 0.9868\n",
      "Epoch 17/20\n",
      "64/64 [==============================] - 9s 138ms/step - loss: 0.0060 - acc: 0.9636 - val_loss: 0.0038 - val_acc: 0.9792\n",
      "Epoch 18/20\n",
      "64/64 [==============================] - 10s 159ms/step - loss: 0.0065 - acc: 0.9608 - val_loss: 0.0053 - val_acc: 0.9605\n",
      "Epoch 19/20\n",
      "64/64 [==============================] - 10s 150ms/step - loss: 0.0056 - acc: 0.9648 - val_loss: 0.0048 - val_acc: 0.9868\n",
      "Epoch 20/20\n",
      "64/64 [==============================] - 10s 153ms/step - loss: 0.0041 - acc: 0.9745 - val_loss: 0.0042 - val_acc: 0.9868\n"
     ]
    }
   ],
   "source": [
    "history = model.fit_generator(train_generator,\n",
    "                   steps_per_epoch = train_sample//batch_size,\n",
    "                   epochs = EPOCHS,\n",
    "                   validation_data = validation_generator,\n",
    "                   validation_steps = validation_sample//batch_size)"
   ]
  },
  {
   "cell_type": "code",
   "execution_count": 54,
   "metadata": {},
   "outputs": [
    {
     "name": "stdout",
     "output_type": "stream",
     "text": [
      "camera notebook.ipynb  haarcascade_frontalface_alt.xml  model.h5\r\n",
      "camera.py              haarcascade.ipynb                modelimages.h5\r\n",
      "cnn_utils.py           hand_haarcascade.xml             recognize_image.ipynb\r\n",
      "cnn_utils.pyc          \u001b[0m\u001b[01;34mimages\u001b[0m/                          tensorflow_model.ipynb\r\n",
      "\u001b[01;34mdata\u001b[0m/                  KerasImages.ipynb                voice.py\r\n",
      "\u001b[01;34mdataset\u001b[0m/               keras_model.ipynb\r\n",
      "haarcascade_eye.xml    \u001b[01;34mmodel\u001b[0m/\r\n"
     ]
    }
   ],
   "source": [
    "ls"
   ]
  },
  {
   "cell_type": "code",
   "execution_count": 55,
   "metadata": {
    "collapsed": true
   },
   "outputs": [],
   "source": [
    "model.save_weights('modelimages.h5')"
   ]
  },
  {
   "cell_type": "code",
   "execution_count": 56,
   "metadata": {},
   "outputs": [
    {
     "name": "stdout",
     "output_type": "stream",
     "text": [
      "camera notebook.ipynb  haarcascade_frontalface_alt.xml  model.h5\r\n",
      "camera.py              haarcascade.ipynb                modelimages.h5\r\n",
      "cnn_utils.py           hand_haarcascade.xml             recognize_image.ipynb\r\n",
      "cnn_utils.pyc          \u001b[0m\u001b[01;34mimages\u001b[0m/                          tensorflow_model.ipynb\r\n",
      "\u001b[01;34mdata\u001b[0m/                  KerasImages.ipynb                voice.py\r\n",
      "\u001b[01;34mdataset\u001b[0m/               keras_model.ipynb\r\n",
      "haarcascade_eye.xml    \u001b[01;34mmodel\u001b[0m/\r\n"
     ]
    }
   ],
   "source": [
    "ls"
   ]
  },
  {
   "cell_type": "code",
   "execution_count": 57,
   "metadata": {
    "collapsed": true
   },
   "outputs": [],
   "source": [
    "model.load_weights('modelimages.h5')"
   ]
  },
  {
   "cell_type": "code",
   "execution_count": 58,
   "metadata": {
    "collapsed": true
   },
   "outputs": [],
   "source": [
    "%matplotlib inline"
   ]
  },
  {
   "cell_type": "code",
   "execution_count": 66,
   "metadata": {},
   "outputs": [],
   "source": [
    "# img = load_img('dataset/training_set/dogs/dog.1.jpg', target_size=(image_w, image_h))\n",
    "img = load_img('images/9.jpg', target_size=(image_w, image_h))"
   ]
  },
  {
   "cell_type": "code",
   "execution_count": 67,
   "metadata": {},
   "outputs": [
    {
     "data": {
      "text/plain": [
       "<matplotlib.image.AxesImage at 0x7f3124d69150>"
      ]
     },
     "execution_count": 67,
     "metadata": {},
     "output_type": "execute_result"
    },
    {
     "data": {
      "image/png": "[encoded data removed]",
      "text/plain": [
       "<matplotlib.figure.Figure at 0x7f311c4e6610>"
      ]
     },
     "metadata": {},
     "output_type": "display_data"
    }
   ],
   "source": [
    "plt.imshow(img)"
   ]
  },
  {
   "cell_type": "code",
   "execution_count": 68,
   "metadata": {},
   "outputs": [
    {
     "data": {
      "text/plain": [
       "(100, 100, 3)"
      ]
     },
     "execution_count": 68,
     "metadata": {},
     "output_type": "execute_result"
    }
   ],
   "source": [
    "img = np.array(img)/255\n",
    "\n",
    "img.shape"
   ]
  },
  {
   "cell_type": "code",
   "execution_count": 69,
   "metadata": {
    "collapsed": true
   },
   "outputs": [],
   "source": [
    "img = np.expand_dims(img, axis = 0)"
   ]
  },
  {
   "cell_type": "code",
   "execution_count": 70,
   "metadata": {},
   "outputs": [
    {
     "data": {
      "text/plain": [
       "(1, 100, 100, 3)"
      ]
     },
     "execution_count": 70,
     "metadata": {},
     "output_type": "execute_result"
    }
   ],
   "source": [
    "img.shape"
   ]
  },
  {
   "cell_type": "code",
   "execution_count": 75,
   "metadata": {},
   "outputs": [
    {
     "name": "stdout",
     "output_type": "stream",
     "text": [
      "[[ 0.2483459   0.00488416  0.00393717  0.00417358  0.21125931  0.02831598\n",
      "   0.12092137  0.09308165  0.15057015  0.13451071]]\n",
      "('the image is predicted to be ', 0)\n"
     ]
    }
   ],
   "source": [
    "predict_array = model.predict(img)\n",
    "\n",
    "print  predict_array\n",
    "\n",
    "result = [np.argmax(x) for x in predict_array]\n",
    "\n",
    "print(\"the image is predicted to be \",np.argmax(result))\n",
    "\n"
   ]
  },
  {
   "cell_type": "code",
   "execution_count": 74,
   "metadata": {
    "collapsed": true
   },
   "outputs": [],
   "source": [
    "cat = {0, 1}\n",
    "dog = {1, 0}"
   ]
  },
  {
   "cell_type": "code",
   "execution_count": null,
   "metadata": {
    "collapsed": true
   },
   "outputs": [],
   "source": []
  },
  {
   "cell_type": "code",
   "execution_count": null,
   "metadata": {
    "collapsed": true
   },
   "outputs": [],
   "source": []
  }
 ],
 "metadata": {
  "kernelspec": {
   "display_name": "Python 2",
   "language": "python",
   "name": "python2"
  },
  "language_info": {
   "codemirror_mode": {
    "name": "ipython",
    "version": 2
   },
   "file_extension": ".py",
   "mimetype": "text/x-python",
   "name": "python",
   "nbconvert_exporter": "python",
   "pygments_lexer": "ipython2",
   "version": "2.7.14"
  }
 },
 "nbformat": 4,
 "nbformat_minor": 2
}
