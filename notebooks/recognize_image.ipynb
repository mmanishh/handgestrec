{
 "cells": [
  {
   "cell_type": "code",
   "execution_count": 2,
   "metadata": {},
   "outputs": [
    {
     "name": "stderr",
     "output_type": "stream",
     "text": [
      "Using TensorFlow backend.\n"
     ]
    }
   ],
   "source": [
    "import cv2, pickle\n",
    "import numpy as np\n",
    "import tensorflow as tf\n",
    "#from cnn_tf import cnn_model_fn\n",
    "import os\n",
    "import sqlite3\n",
    "from keras.models import load_model"
   ]
  },
  {
   "cell_type": "code",
   "execution_count": 7,
   "metadata": {},
   "outputs": [],
   "source": [
    "# os.environ['TF_CPP_MIN_LOG_LEVEL'] = '3'\n",
    "# tf.logging.set_verbosity(tf.logging.ERROR)\n",
    "# #classifier = tf.estimator.Estimator(model_dir=\"tmp/cnn_model2\", model_fn=cnn_model_fn)\n",
    "# prediction = None\n",
    "model = load_model('model.h5')"
   ]
  },
  {
   "cell_type": "code",
   "execution_count": 8,
   "metadata": {},
   "outputs": [],
   "source": [
    "# def get_image_size():\n",
    "# \timg = cv2.imread('gestures/0/100.jpg', 0)\n",
    "# \treturn img.shape\n",
    "\n",
    "image_x, image_y = 64,64"
   ]
  },
  {
   "cell_type": "code",
   "execution_count": 9,
   "metadata": {},
   "outputs": [],
   "source": [
    "def keras_process_image(img):\n",
    "\timg = cv2.resize(img, (image_x, image_y))\n",
    "\timg = np.array(img, dtype=np.float32)\n",
    "\timg = np.reshape(img, (1, image_x, image_y, 1))\n",
    "\treturn img\n",
    "\n",
    "def keras_predict(model, image):\n",
    "    processed = keras_process_image(image)\n",
    "    pred_probab = model.predict(processed)[0]\n",
    "    pred_class = list(pred_probab).index(max(pred_probab))\n",
    "    return max(pred_probab), pred_class"
   ]
  },
  {
   "cell_type": "code",
   "execution_count": 10,
   "metadata": {},
   "outputs": [
    {
     "ename": "NameError",
     "evalue": "name 'get_hand_hist' is not defined",
     "output_type": "error",
     "traceback": [
      "\u001b[0;31m---------------------------------------------------------------------------\u001b[0m",
      "\u001b[0;31mNameError\u001b[0m                                 Traceback (most recent call last)",
      "\u001b[0;32m<ipython-input-10-48f23f809c11>\u001b[0m in \u001b[0;36m<module>\u001b[0;34m()\u001b[0m\n\u001b[1;32m     52\u001b[0m \u001b[0;34m\u001b[0m\u001b[0m\n\u001b[1;32m     53\u001b[0m \u001b[0mkeras_predict\u001b[0m\u001b[0;34m(\u001b[0m\u001b[0mmodel\u001b[0m\u001b[0;34m,\u001b[0m \u001b[0mnp\u001b[0m\u001b[0;34m.\u001b[0m\u001b[0mzeros\u001b[0m\u001b[0;34m(\u001b[0m\u001b[0;34m(\u001b[0m\u001b[0;36m50\u001b[0m\u001b[0;34m,\u001b[0m \u001b[0;36m50\u001b[0m\u001b[0;34m)\u001b[0m\u001b[0;34m,\u001b[0m \u001b[0mdtype\u001b[0m\u001b[0;34m=\u001b[0m\u001b[0mnp\u001b[0m\u001b[0;34m.\u001b[0m\u001b[0muint8\u001b[0m\u001b[0;34m)\u001b[0m\u001b[0;34m)\u001b[0m\u001b[0;34m\u001b[0m\u001b[0m\n\u001b[0;32m---> 54\u001b[0;31m \u001b[0mrecognize\u001b[0m\u001b[0;34m(\u001b[0m\u001b[0;34m)\u001b[0m\u001b[0;34m\u001b[0m\u001b[0m\n\u001b[0m",
      "\u001b[0;32m<ipython-input-10-48f23f809c11>\u001b[0m in \u001b[0;36mrecognize\u001b[0;34m()\u001b[0m\n\u001b[1;32m      4\u001b[0m     \u001b[0;32mif\u001b[0m \u001b[0mcam\u001b[0m\u001b[0;34m.\u001b[0m\u001b[0mread\u001b[0m\u001b[0;34m(\u001b[0m\u001b[0;34m)\u001b[0m\u001b[0;34m[\u001b[0m\u001b[0;36m0\u001b[0m\u001b[0;34m]\u001b[0m \u001b[0;34m==\u001b[0m \u001b[0;32mFalse\u001b[0m\u001b[0;34m:\u001b[0m\u001b[0;34m\u001b[0m\u001b[0m\n\u001b[1;32m      5\u001b[0m         \u001b[0mcam\u001b[0m \u001b[0;34m=\u001b[0m \u001b[0mcv2\u001b[0m\u001b[0;34m.\u001b[0m\u001b[0mVideoCapture\u001b[0m\u001b[0;34m(\u001b[0m\u001b[0;36m0\u001b[0m\u001b[0;34m)\u001b[0m\u001b[0;34m\u001b[0m\u001b[0m\n\u001b[0;32m----> 6\u001b[0;31m     \u001b[0mhist\u001b[0m \u001b[0;34m=\u001b[0m \u001b[0mget_hand_hist\u001b[0m\u001b[0;34m(\u001b[0m\u001b[0;34m)\u001b[0m\u001b[0;34m\u001b[0m\u001b[0m\n\u001b[0m\u001b[1;32m      7\u001b[0m     \u001b[0mx\u001b[0m\u001b[0;34m,\u001b[0m \u001b[0my\u001b[0m\u001b[0;34m,\u001b[0m \u001b[0mw\u001b[0m\u001b[0;34m,\u001b[0m \u001b[0mh\u001b[0m \u001b[0;34m=\u001b[0m \u001b[0;36m300\u001b[0m\u001b[0;34m,\u001b[0m \u001b[0;36m100\u001b[0m\u001b[0;34m,\u001b[0m \u001b[0;36m300\u001b[0m\u001b[0;34m,\u001b[0m \u001b[0;36m300\u001b[0m\u001b[0;34m\u001b[0m\u001b[0m\n\u001b[1;32m      8\u001b[0m     \u001b[0;32mwhile\u001b[0m \u001b[0;32mTrue\u001b[0m\u001b[0;34m:\u001b[0m\u001b[0;34m\u001b[0m\u001b[0m\n",
      "\u001b[0;31mNameError\u001b[0m: name 'get_hand_hist' is not defined"
     ]
    }
   ],
   "source": [
    "def recognize():\n",
    "    global prediction\n",
    "    cam = cv2.VideoCapture(1)\n",
    "    if cam.read()[0] == False:\n",
    "        cam = cv2.VideoCapture(0)\n",
    "    #hist = get_hand_hist()\n",
    "    x, y, w, h = 300, 100, 300, 300\n",
    "    while True:\n",
    "        text = \"\"\n",
    "        img = cam.read()[1]\n",
    "        img = cv2.flip(img, 1)\n",
    "        imgCrop = img[y:y+h, x:x+w]\n",
    "        imgHSV = cv2.cvtColor(img, cv2.COLOR_BGR2HSV)\n",
    "        dst = cv2.calcBackProject([imgHSV], [0, 1], hist, [0, 180, 0, 256], 1)\n",
    "        disc = cv2.getStructuringElement(cv2.MORPH_ELLIPSE,(10,10))\n",
    "        cv2.filter2D(dst,-1,disc,dst)\n",
    "        blur = cv2.GaussianBlur(dst, (11,11), 0)\n",
    "        blur = cv2.medianBlur(blur, 15)\n",
    "        thresh = cv2.threshold(blur,0,255,cv2.THRESH_BINARY+cv2.THRESH_OTSU)[1]\n",
    "        thresh = cv2.merge((thresh,thresh,thresh))\n",
    "        thresh = cv2.cvtColor(thresh, cv2.COLOR_BGR2GRAY)\n",
    "        thresh = thresh[y:y+h, x:x+w]\n",
    "        contours = cv2.findContours(thresh.copy(), cv2.RETR_TREE, cv2.CHAIN_APPROX_NONE)[1]\n",
    "        if len(contours) > 0:\n",
    "            contour = max(contours, key = cv2.contourArea)\n",
    "            #print(cv2.contourArea(contour))\n",
    "            if cv2.contourArea(contour) > 10000:\n",
    "                x1, y1, w1, h1 = cv2.boundingRect(contour)\n",
    "                save_img = thresh[y1:y1+h1, x1:x1+w1]\n",
    "                \n",
    "                if w1 > h1:\n",
    "                    save_img = cv2.copyMakeBorder(save_img, int((w1-h1)/2) , int((w1-h1)/2) , 0, 0, cv2.BORDER_CONSTANT, (0, 0, 0))\n",
    "                elif h1 > w1:\n",
    "                    save_img = cv2.copyMakeBorder(save_img, 0, 0, int((h1-w1)/2) , int((h1-w1)/2) , cv2.BORDER_CONSTANT, (0, 0, 0))\n",
    "                \n",
    "                pred_probab, pred_class = keras_predict(model, save_img)\n",
    "                print(pred_class, pred_probab)\n",
    "                \n",
    "                if pred_probab*100 > 80:\n",
    "                    text = get_pred_text_from_db(pred_class)\n",
    "                    print(text)\n",
    "        blackboard =p.zeros((480, 640, 3), dtype=np.uint8)\n",
    "        splitted_text = split_sentence(text, 2)\n",
    "        put_splitted_text_in_blackboard(blackboard, splitted_text)\n",
    "        #cv2.putText(blackboard, text, (30, 200), cv2.FONT_HERSHEY_TRIPLEX, 1.3, (255, 255, 255))\n",
    "        cv2.rectangle(img, (x,y), (x+w, y+h), (0,255,0), 2)\n",
    "        res = np.hstack((img, blackboard))\n",
    "        cv2.imshow(\"Recognizing gesture\", res)\n",
    "        cv2.imshow(\"thresh\", thresh)\n",
    "        if cv2.waitKey(1) == ord('q'):\n",
    "            break\n",
    "\n",
    "keras_predict(model, np.zeros((50, 50), dtype=np.uint8))\t\t\n",
    "recognize()"
   ]
  },
  {
   "cell_type": "code",
   "execution_count": null,
   "metadata": {},
   "outputs": [],
   "source": [
    "fname = \"images/thumbs_up.jpg\"\n",
    "image = np.array(ndimage.imread(fname, flatten=False))\n",
    "my_image = scipy.misc.imresize(image, size=(64,64))\n",
    "plt.imshow(my_image)"
   ]
  },
  {
   "cell_type": "code",
   "execution_count": null,
   "metadata": {},
   "outputs": [],
   "source": [
    "\n",
    "\n",
    "\n",
    "\n",
    "\n",
    "\n",
    "def tf_process_image(img):\n",
    "\timg = cv2.resize(img, (image_x, image_y))\n",
    "\timg = np.array(img, dtype=np.float32)\n",
    "\tnp_array = np.array(img)\n",
    "\treturn np_array\n",
    "\n",
    "def tf_predict(classifier, image):\n",
    "\t'''\n",
    "\tneed help with prediction using tensorflow\n",
    "\t'''\n",
    "\tglobal prediction\n",
    "\tprocessed_array = tf_process_image(image)\n",
    "\tpred_input_fn = tf.estimator.inputs.numpy_input_fn(x={\"x\":processed_array}, shuffle=False)\n",
    "\tpred = classifier.predict(input_fn=pred_input_fn)\n",
    "\tprediction = next(pred)\n",
    "\tprint(prediction)\n",
    "\n",
    "\n",
    "\n",
    "def get_pred_text_from_db(pred_class):\n",
    "\tconn = sqlite3.connect(\"gesture_db.db\")\n",
    "\tcmd = \"SELECT g_name FROM gesture WHERE g_id=\"+str(pred_class)\n",
    "\tcursor = conn.execute(cmd)\n",
    "\tfor row in cursor:\n",
    "\t\treturn row[0]\n",
    "\n",
    "def split_sentence(text, num_of_words):\n",
    "\t'''\n",
    "\tSplits a text into group of num_of_words\n",
    "\t'''\n",
    "\tlist_words = text.split(\" \")\n",
    "\tlength = len(list_words)\n",
    "\tsplitted_sentence = []\n",
    "\tb_index = 0\n",
    "\te_index = num_of_words\n",
    "\twhile length > 0:\n",
    "\t\tpart = \"\"\n",
    "\t\tfor word in list_words[b_index:e_index]:\n",
    "\t\t\tpart = part + \" \" + word\n",
    "\t\tsplitted_sentence.append(part)\n",
    "\t\tb_index += num_of_words\n",
    "\t\te_index += num_of_words\n",
    "\t\tlength -= num_of_words\n",
    "\treturn splitted_sentence\n",
    "\n",
    "def put_splitted_text_in_blackboard(blackboard, splitted_text):\n",
    "\ty = 200\n",
    "\tfor text in splitted_text:\n",
    "\t\tcv2.putText(blackboard, text, (4, y), cv2.FONT_HERSHEY_TRIPLEX, 2, (255, 255, 255))\n",
    "\t\ty += 50\n",
    "\n",
    "def get_hand_hist():\n",
    "\twith open(\"hist\", \"rb\") as f:\n",
    "\t\thist = pickle.load(f)\n",
    "\treturn hist\n",
    "\n",
    "\n"
   ]
  }
 ],
 "metadata": {
  "kernelspec": {
   "display_name": "Python 3",
   "language": "python",
   "name": "python3"
  },
  "language_info": {
   "codemirror_mode": {
    "name": "ipython",
    "version": 3
   },
   "file_extension": ".py",
   "mimetype": "text/x-python",
   "name": "python",
   "nbconvert_exporter": "python",
   "pygments_lexer": "ipython3",
   "version": "3.6.4"
  }
 },
 "nbformat": 4,
 "nbformat_minor": 2
}
